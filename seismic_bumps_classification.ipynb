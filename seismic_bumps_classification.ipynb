{
 "cells": [
  {
   "cell_type": "markdown",
   "metadata": {
    "id": "OkrI2ZW1-uuB"
   },
   "source": [
    "### Importing libraries"
   ]
  },
  {
   "cell_type": "code",
   "execution_count": 1,
   "metadata": {
    "colab": {
     "base_uri": "https://localhost:8080/"
    },
    "id": "C0zfLjMZS31P",
    "outputId": "7e2d0052-1f99-44b1-aa26-9792030b3e42"
   },
   "outputs": [],
   "source": [
    "#python libraries\n",
    "import pandas as pd\n",
    "import seaborn as sns\n",
    "import matplotlib.pyplot as plt\n",
    "from sklearn.preprocessing import StandardScaler, LabelEncoder\n",
    "from sklearn.decomposition import PCA\n",
    "from sklearn.linear_model import LogisticRegression\n",
    "from sklearn.model_selection import train_test_split\n",
    "#pip install catboost\n",
    "from sklearn.linear_model import LogisticRegression\n",
    "from sklearn.ensemble import RandomForestClassifier\n",
    "from catboost import CatBoostClassifier\n",
    "from sklearn.metrics import classification_report, plot_confusion_matrix, plot_precision_recall_curve, accuracy_score, roc_auc_score, log_loss\n",
    "import warnings\n",
    "warnings.filterwarnings(\"ignore\")"
   ]
  },
  {
   "cell_type": "markdown",
   "metadata": {
    "id": "peVEgz67-1Vw"
   },
   "source": [
    "### Data loading"
   ]
  },
  {
   "cell_type": "code",
   "execution_count": 2,
   "metadata": {},
   "outputs": [],
   "source": [
    "#pip install catboost"
   ]
  },
  {
   "cell_type": "code",
   "execution_count": 3,
   "metadata": {
    "colab": {
     "base_uri": "https://localhost:8080/",
     "height": 194
    },
    "id": "gYgx70LuTt2g",
    "outputId": "0b7b7a1b-3644-4fd8-d545-fe4a62ee7565",
    "scrolled": true
   },
   "outputs": [
    {
     "data": {
      "text/html": [
       "<div>\n",
       "<style scoped>\n",
       "    .dataframe tbody tr th:only-of-type {\n",
       "        vertical-align: middle;\n",
       "    }\n",
       "\n",
       "    .dataframe tbody tr th {\n",
       "        vertical-align: top;\n",
       "    }\n",
       "\n",
       "    .dataframe thead th {\n",
       "        text-align: right;\n",
       "    }\n",
       "</style>\n",
       "<table border=\"1\" class=\"dataframe\">\n",
       "  <thead>\n",
       "    <tr style=\"text-align: right;\">\n",
       "      <th></th>\n",
       "      <th>seismic</th>\n",
       "      <th>seismoacoustic</th>\n",
       "      <th>shift</th>\n",
       "      <th>genergy</th>\n",
       "      <th>gpuls</th>\n",
       "      <th>gdenergy</th>\n",
       "      <th>gdpuls</th>\n",
       "      <th>ghazard</th>\n",
       "      <th>nbumps</th>\n",
       "      <th>nbumps2</th>\n",
       "      <th>nbumps3</th>\n",
       "      <th>nbumps4</th>\n",
       "      <th>nbumps5</th>\n",
       "      <th>nbumps6</th>\n",
       "      <th>nbumps7</th>\n",
       "      <th>nbumps89</th>\n",
       "      <th>energy</th>\n",
       "      <th>maxenergy</th>\n",
       "      <th>class</th>\n",
       "    </tr>\n",
       "  </thead>\n",
       "  <tbody>\n",
       "    <tr>\n",
       "      <th>0</th>\n",
       "      <td>a</td>\n",
       "      <td>a</td>\n",
       "      <td>N</td>\n",
       "      <td>15180</td>\n",
       "      <td>48</td>\n",
       "      <td>-72</td>\n",
       "      <td>-72</td>\n",
       "      <td>a</td>\n",
       "      <td>0</td>\n",
       "      <td>0</td>\n",
       "      <td>0</td>\n",
       "      <td>0</td>\n",
       "      <td>0</td>\n",
       "      <td>0</td>\n",
       "      <td>0</td>\n",
       "      <td>0</td>\n",
       "      <td>0</td>\n",
       "      <td>0</td>\n",
       "      <td>0</td>\n",
       "    </tr>\n",
       "    <tr>\n",
       "      <th>1</th>\n",
       "      <td>a</td>\n",
       "      <td>a</td>\n",
       "      <td>N</td>\n",
       "      <td>14720</td>\n",
       "      <td>33</td>\n",
       "      <td>-70</td>\n",
       "      <td>-79</td>\n",
       "      <td>a</td>\n",
       "      <td>1</td>\n",
       "      <td>0</td>\n",
       "      <td>1</td>\n",
       "      <td>0</td>\n",
       "      <td>0</td>\n",
       "      <td>0</td>\n",
       "      <td>0</td>\n",
       "      <td>0</td>\n",
       "      <td>2000</td>\n",
       "      <td>2000</td>\n",
       "      <td>0</td>\n",
       "    </tr>\n",
       "    <tr>\n",
       "      <th>2</th>\n",
       "      <td>a</td>\n",
       "      <td>a</td>\n",
       "      <td>N</td>\n",
       "      <td>8050</td>\n",
       "      <td>30</td>\n",
       "      <td>-81</td>\n",
       "      <td>-78</td>\n",
       "      <td>a</td>\n",
       "      <td>0</td>\n",
       "      <td>0</td>\n",
       "      <td>0</td>\n",
       "      <td>0</td>\n",
       "      <td>0</td>\n",
       "      <td>0</td>\n",
       "      <td>0</td>\n",
       "      <td>0</td>\n",
       "      <td>0</td>\n",
       "      <td>0</td>\n",
       "      <td>0</td>\n",
       "    </tr>\n",
       "    <tr>\n",
       "      <th>3</th>\n",
       "      <td>a</td>\n",
       "      <td>a</td>\n",
       "      <td>N</td>\n",
       "      <td>28820</td>\n",
       "      <td>171</td>\n",
       "      <td>-23</td>\n",
       "      <td>40</td>\n",
       "      <td>a</td>\n",
       "      <td>1</td>\n",
       "      <td>0</td>\n",
       "      <td>1</td>\n",
       "      <td>0</td>\n",
       "      <td>0</td>\n",
       "      <td>0</td>\n",
       "      <td>0</td>\n",
       "      <td>0</td>\n",
       "      <td>3000</td>\n",
       "      <td>3000</td>\n",
       "      <td>0</td>\n",
       "    </tr>\n",
       "    <tr>\n",
       "      <th>4</th>\n",
       "      <td>a</td>\n",
       "      <td>a</td>\n",
       "      <td>N</td>\n",
       "      <td>12640</td>\n",
       "      <td>57</td>\n",
       "      <td>-63</td>\n",
       "      <td>-52</td>\n",
       "      <td>a</td>\n",
       "      <td>0</td>\n",
       "      <td>0</td>\n",
       "      <td>0</td>\n",
       "      <td>0</td>\n",
       "      <td>0</td>\n",
       "      <td>0</td>\n",
       "      <td>0</td>\n",
       "      <td>0</td>\n",
       "      <td>0</td>\n",
       "      <td>0</td>\n",
       "      <td>0</td>\n",
       "    </tr>\n",
       "  </tbody>\n",
       "</table>\n",
       "</div>"
      ],
      "text/plain": [
       "  seismic seismoacoustic shift  genergy  gpuls  gdenergy  gdpuls ghazard  \\\n",
       "0       a              a     N    15180     48       -72     -72       a   \n",
       "1       a              a     N    14720     33       -70     -79       a   \n",
       "2       a              a     N     8050     30       -81     -78       a   \n",
       "3       a              a     N    28820    171       -23      40       a   \n",
       "4       a              a     N    12640     57       -63     -52       a   \n",
       "\n",
       "   nbumps   nbumps2  nbumps3  nbumps4  nbumps5  nbumps6  nbumps7  nbumps89  \\\n",
       "0       0         0        0        0        0        0        0         0   \n",
       "1       1         0        1        0        0        0        0         0   \n",
       "2       0         0        0        0        0        0        0         0   \n",
       "3       1         0        1        0        0        0        0         0   \n",
       "4       0         0        0        0        0        0        0         0   \n",
       "\n",
       "   energy  maxenergy  class  \n",
       "0       0          0      0  \n",
       "1    2000       2000      0  \n",
       "2       0          0      0  \n",
       "3    3000       3000      0  \n",
       "4       0          0      0  "
      ]
     },
     "execution_count": 3,
     "metadata": {},
     "output_type": "execute_result"
    }
   ],
   "source": [
    "data = pd.read_csv('seismic_bumps.csv')\n",
    "data.head() "
   ]
  },
  {
   "cell_type": "markdown",
   "metadata": {
    "id": "Lr8pKdMST5tA"
   },
   "source": [
    "#### Attribute information:\n",
    "1. seismic: shift seismic hazard in the coal mine obtained by the seismic; hazard state as(a : lack, b : low, c : high, d : danger state);\n",
    "2. seismoacoustic: shift seismic hazard  in the coal mine obtained by the this method;\n",
    "3. shift: type of a shift (W : coal-getting, N : preparation shift);\n",
    "4. genergy: energy recorded within shift previously using most active GMax \n",
    "5. gpuls: number of pulses recorded  by GMax within previous shift;\n",
    "6. gdenergy: deviation of energy recorded by GMax from average\n",
    "during eight previous shifts\n",
    "7. gdpuls: deviation of number of pulses\n",
    "8. ghazard: shift seismic hazard assessment in the coal mine based on registration from GMax\n",
    "9. nbumps: number of seismic bumps\n",
    "10. nbumps2: number of seismic bumps (in energy range [10^2,10^3)) \n",
    "11. nbumps3: number of seismic bumps (in energy range [10^3,10^4)) \n",
    "12. nbumps4: number of seismic bumps (in energy range [10^4,10^5))\n",
    "13. nbumps5: number of seismic bumps (in energy range [10^5,10^6))\n",
    "14. nbumps6: number of seismic bumps (in energy range [10^6,10^7))\n",
    "15. nbumps7: number of seismic bumps (in energy range [10^7,10^8))\n",
    "16. nbumps89: number of seismic bumps (in energy range [10^8,10^10))\n",
    "17. energy: total energy of seismic bumps\n",
    "18. maxenergy: maximum energy of the seismic bumps\n",
    "19. class: 1; seismic bumps leads to hazardous state or 0; Non hazardous state"
   ]
  },
  {
   "cell_type": "code",
   "execution_count": 4,
   "metadata": {
    "colab": {
     "base_uri": "https://localhost:8080/"
    },
    "id": "cJmRo38pTyuG",
    "outputId": "4268afbf-4dae-46ce-8fac-d56cf5c7fffe"
   },
   "outputs": [
    {
     "data": {
      "text/plain": [
       "(2584, 19)"
      ]
     },
     "execution_count": 4,
     "metadata": {},
     "output_type": "execute_result"
    }
   ],
   "source": [
    "#number of instances and atttributes\n",
    "data.shape"
   ]
  },
  {
   "cell_type": "markdown",
   "metadata": {
    "id": "cRGvjpa5A7vs"
   },
   "source": [
    "### Dataset basic information"
   ]
  },
  {
   "cell_type": "code",
   "execution_count": 5,
   "metadata": {
    "colab": {
     "base_uri": "https://localhost:8080/"
    },
    "id": "dnKngDw-UBuD",
    "outputId": "94536eef-1b64-42be-eb11-5fb223fac486"
   },
   "outputs": [
    {
     "name": "stdout",
     "output_type": "stream",
     "text": [
      "<class 'pandas.core.frame.DataFrame'>\n",
      "RangeIndex: 2584 entries, 0 to 2583\n",
      "Data columns (total 19 columns):\n",
      " #   Column          Non-Null Count  Dtype \n",
      "---  ------          --------------  ----- \n",
      " 0   seismic         2584 non-null   object\n",
      " 1   seismoacoustic  2584 non-null   object\n",
      " 2   shift           2584 non-null   object\n",
      " 3   genergy         2584 non-null   int64 \n",
      " 4   gpuls           2584 non-null   int64 \n",
      " 5   gdenergy        2584 non-null   int64 \n",
      " 6   gdpuls          2584 non-null   int64 \n",
      " 7   ghazard         2584 non-null   object\n",
      " 8   nbumps          2584 non-null   int64 \n",
      " 9    nbumps2        2584 non-null   int64 \n",
      " 10  nbumps3         2584 non-null   int64 \n",
      " 11  nbumps4         2584 non-null   int64 \n",
      " 12  nbumps5         2584 non-null   int64 \n",
      " 13  nbumps6         2584 non-null   int64 \n",
      " 14  nbumps7         2584 non-null   int64 \n",
      " 15  nbumps89        2584 non-null   int64 \n",
      " 16  energy          2584 non-null   int64 \n",
      " 17  maxenergy       2584 non-null   int64 \n",
      " 18  class           2584 non-null   int64 \n",
      "dtypes: int64(15), object(4)\n",
      "memory usage: 383.7+ KB\n"
     ]
    }
   ],
   "source": [
    "data.info()"
   ]
  },
  {
   "cell_type": "markdown",
   "metadata": {
    "id": "7HFqjvV8BBZZ"
   },
   "source": [
    "Some attributes are of object type that means it contains string values so these are needed to be encoded"
   ]
  },
  {
   "cell_type": "code",
   "execution_count": 6,
   "metadata": {
    "colab": {
     "base_uri": "https://localhost:8080/",
     "height": 282
    },
    "id": "E8yCC8LaUEjP",
    "outputId": "eb8c740b-8cdf-43bb-ccbf-6239cfeba068"
   },
   "outputs": [
    {
     "data": {
      "text/html": [
       "<div>\n",
       "<style scoped>\n",
       "    .dataframe tbody tr th:only-of-type {\n",
       "        vertical-align: middle;\n",
       "    }\n",
       "\n",
       "    .dataframe tbody tr th {\n",
       "        vertical-align: top;\n",
       "    }\n",
       "\n",
       "    .dataframe thead th {\n",
       "        text-align: right;\n",
       "    }\n",
       "</style>\n",
       "<table border=\"1\" class=\"dataframe\">\n",
       "  <thead>\n",
       "    <tr style=\"text-align: right;\">\n",
       "      <th></th>\n",
       "      <th>genergy</th>\n",
       "      <th>gpuls</th>\n",
       "      <th>gdenergy</th>\n",
       "      <th>gdpuls</th>\n",
       "      <th>nbumps</th>\n",
       "      <th>nbumps2</th>\n",
       "      <th>nbumps3</th>\n",
       "      <th>nbumps4</th>\n",
       "      <th>nbumps5</th>\n",
       "      <th>nbumps6</th>\n",
       "      <th>nbumps7</th>\n",
       "      <th>nbumps89</th>\n",
       "      <th>energy</th>\n",
       "      <th>maxenergy</th>\n",
       "      <th>class</th>\n",
       "    </tr>\n",
       "  </thead>\n",
       "  <tbody>\n",
       "    <tr>\n",
       "      <th>count</th>\n",
       "      <td>2.584000e+03</td>\n",
       "      <td>2584.000000</td>\n",
       "      <td>2584.000000</td>\n",
       "      <td>2584.000000</td>\n",
       "      <td>2584.000000</td>\n",
       "      <td>2584.000000</td>\n",
       "      <td>2584.000000</td>\n",
       "      <td>2584.000000</td>\n",
       "      <td>2584.000000</td>\n",
       "      <td>2584.0</td>\n",
       "      <td>2584.0</td>\n",
       "      <td>2584.0</td>\n",
       "      <td>2584.000000</td>\n",
       "      <td>2584.000000</td>\n",
       "      <td>2584.000000</td>\n",
       "    </tr>\n",
       "    <tr>\n",
       "      <th>mean</th>\n",
       "      <td>9.024252e+04</td>\n",
       "      <td>538.579334</td>\n",
       "      <td>12.375774</td>\n",
       "      <td>4.508901</td>\n",
       "      <td>0.859520</td>\n",
       "      <td>0.393576</td>\n",
       "      <td>0.392802</td>\n",
       "      <td>0.067724</td>\n",
       "      <td>0.004644</td>\n",
       "      <td>0.0</td>\n",
       "      <td>0.0</td>\n",
       "      <td>0.0</td>\n",
       "      <td>4975.270898</td>\n",
       "      <td>4278.850619</td>\n",
       "      <td>0.065789</td>\n",
       "    </tr>\n",
       "    <tr>\n",
       "      <th>std</th>\n",
       "      <td>2.292005e+05</td>\n",
       "      <td>562.652536</td>\n",
       "      <td>80.319051</td>\n",
       "      <td>63.166556</td>\n",
       "      <td>1.364616</td>\n",
       "      <td>0.783772</td>\n",
       "      <td>0.769710</td>\n",
       "      <td>0.279059</td>\n",
       "      <td>0.068001</td>\n",
       "      <td>0.0</td>\n",
       "      <td>0.0</td>\n",
       "      <td>0.0</td>\n",
       "      <td>20450.833222</td>\n",
       "      <td>19357.454882</td>\n",
       "      <td>0.247962</td>\n",
       "    </tr>\n",
       "    <tr>\n",
       "      <th>min</th>\n",
       "      <td>1.000000e+02</td>\n",
       "      <td>2.000000</td>\n",
       "      <td>-96.000000</td>\n",
       "      <td>-96.000000</td>\n",
       "      <td>0.000000</td>\n",
       "      <td>0.000000</td>\n",
       "      <td>0.000000</td>\n",
       "      <td>0.000000</td>\n",
       "      <td>0.000000</td>\n",
       "      <td>0.0</td>\n",
       "      <td>0.0</td>\n",
       "      <td>0.0</td>\n",
       "      <td>0.000000</td>\n",
       "      <td>0.000000</td>\n",
       "      <td>0.000000</td>\n",
       "    </tr>\n",
       "    <tr>\n",
       "      <th>25%</th>\n",
       "      <td>1.166000e+04</td>\n",
       "      <td>190.000000</td>\n",
       "      <td>-37.000000</td>\n",
       "      <td>-36.000000</td>\n",
       "      <td>0.000000</td>\n",
       "      <td>0.000000</td>\n",
       "      <td>0.000000</td>\n",
       "      <td>0.000000</td>\n",
       "      <td>0.000000</td>\n",
       "      <td>0.0</td>\n",
       "      <td>0.0</td>\n",
       "      <td>0.0</td>\n",
       "      <td>0.000000</td>\n",
       "      <td>0.000000</td>\n",
       "      <td>0.000000</td>\n",
       "    </tr>\n",
       "    <tr>\n",
       "      <th>50%</th>\n",
       "      <td>2.548500e+04</td>\n",
       "      <td>379.000000</td>\n",
       "      <td>-6.000000</td>\n",
       "      <td>-6.000000</td>\n",
       "      <td>0.000000</td>\n",
       "      <td>0.000000</td>\n",
       "      <td>0.000000</td>\n",
       "      <td>0.000000</td>\n",
       "      <td>0.000000</td>\n",
       "      <td>0.0</td>\n",
       "      <td>0.0</td>\n",
       "      <td>0.0</td>\n",
       "      <td>0.000000</td>\n",
       "      <td>0.000000</td>\n",
       "      <td>0.000000</td>\n",
       "    </tr>\n",
       "    <tr>\n",
       "      <th>75%</th>\n",
       "      <td>5.283250e+04</td>\n",
       "      <td>669.000000</td>\n",
       "      <td>38.000000</td>\n",
       "      <td>30.250000</td>\n",
       "      <td>1.000000</td>\n",
       "      <td>1.000000</td>\n",
       "      <td>1.000000</td>\n",
       "      <td>0.000000</td>\n",
       "      <td>0.000000</td>\n",
       "      <td>0.0</td>\n",
       "      <td>0.0</td>\n",
       "      <td>0.0</td>\n",
       "      <td>2600.000000</td>\n",
       "      <td>2000.000000</td>\n",
       "      <td>0.000000</td>\n",
       "    </tr>\n",
       "    <tr>\n",
       "      <th>max</th>\n",
       "      <td>2.595650e+06</td>\n",
       "      <td>4518.000000</td>\n",
       "      <td>1245.000000</td>\n",
       "      <td>838.000000</td>\n",
       "      <td>9.000000</td>\n",
       "      <td>8.000000</td>\n",
       "      <td>7.000000</td>\n",
       "      <td>3.000000</td>\n",
       "      <td>1.000000</td>\n",
       "      <td>0.0</td>\n",
       "      <td>0.0</td>\n",
       "      <td>0.0</td>\n",
       "      <td>402000.000000</td>\n",
       "      <td>400000.000000</td>\n",
       "      <td>1.000000</td>\n",
       "    </tr>\n",
       "  </tbody>\n",
       "</table>\n",
       "</div>"
      ],
      "text/plain": [
       "            genergy        gpuls     gdenergy       gdpuls       nbumps  \\\n",
       "count  2.584000e+03  2584.000000  2584.000000  2584.000000  2584.000000   \n",
       "mean   9.024252e+04   538.579334    12.375774     4.508901     0.859520   \n",
       "std    2.292005e+05   562.652536    80.319051    63.166556     1.364616   \n",
       "min    1.000000e+02     2.000000   -96.000000   -96.000000     0.000000   \n",
       "25%    1.166000e+04   190.000000   -37.000000   -36.000000     0.000000   \n",
       "50%    2.548500e+04   379.000000    -6.000000    -6.000000     0.000000   \n",
       "75%    5.283250e+04   669.000000    38.000000    30.250000     1.000000   \n",
       "max    2.595650e+06  4518.000000  1245.000000   838.000000     9.000000   \n",
       "\n",
       "           nbumps2      nbumps3      nbumps4      nbumps5  nbumps6  nbumps7  \\\n",
       "count  2584.000000  2584.000000  2584.000000  2584.000000   2584.0   2584.0   \n",
       "mean      0.393576     0.392802     0.067724     0.004644      0.0      0.0   \n",
       "std       0.783772     0.769710     0.279059     0.068001      0.0      0.0   \n",
       "min       0.000000     0.000000     0.000000     0.000000      0.0      0.0   \n",
       "25%       0.000000     0.000000     0.000000     0.000000      0.0      0.0   \n",
       "50%       0.000000     0.000000     0.000000     0.000000      0.0      0.0   \n",
       "75%       1.000000     1.000000     0.000000     0.000000      0.0      0.0   \n",
       "max       8.000000     7.000000     3.000000     1.000000      0.0      0.0   \n",
       "\n",
       "       nbumps89         energy      maxenergy        class  \n",
       "count    2584.0    2584.000000    2584.000000  2584.000000  \n",
       "mean        0.0    4975.270898    4278.850619     0.065789  \n",
       "std         0.0   20450.833222   19357.454882     0.247962  \n",
       "min         0.0       0.000000       0.000000     0.000000  \n",
       "25%         0.0       0.000000       0.000000     0.000000  \n",
       "50%         0.0       0.000000       0.000000     0.000000  \n",
       "75%         0.0    2600.000000    2000.000000     0.000000  \n",
       "max         0.0  402000.000000  400000.000000     1.000000  "
      ]
     },
     "execution_count": 6,
     "metadata": {},
     "output_type": "execute_result"
    }
   ],
   "source": [
    "data.describe()"
   ]
  },
  {
   "cell_type": "markdown",
   "metadata": {
    "id": "xT4Nf6qCUKXZ"
   },
   "source": [
    "A brief description of data is given above with its mean, min-max values, and other statiscal measures."
   ]
  },
  {
   "cell_type": "code",
   "execution_count": 7,
   "metadata": {
    "colab": {
     "base_uri": "https://localhost:8080/"
    },
    "id": "zM-TrpyaUDd_",
    "outputId": "4f743ce0-ace7-41df-9577-609b68bc50b1"
   },
   "outputs": [
    {
     "data": {
      "text/plain": [
       "seismic           0\n",
       "seismoacoustic    0\n",
       "shift             0\n",
       "genergy           0\n",
       "gpuls             0\n",
       "gdenergy          0\n",
       "gdpuls            0\n",
       "ghazard           0\n",
       "nbumps            0\n",
       " nbumps2          0\n",
       "nbumps3           0\n",
       "nbumps4           0\n",
       "nbumps5           0\n",
       "nbumps6           0\n",
       "nbumps7           0\n",
       "nbumps89          0\n",
       "energy            0\n",
       "maxenergy         0\n",
       "class             0\n",
       "dtype: int64"
      ]
     },
     "execution_count": 7,
     "metadata": {},
     "output_type": "execute_result"
    }
   ],
   "source": [
    "#Observing null values, if any.\n",
    "data.isnull().sum()"
   ]
  },
  {
   "cell_type": "markdown",
   "metadata": {
    "id": "zgUTIlB8BXCB"
   },
   "source": [
    "This null value count represents that the dataset is free from noise; null value are not there. "
   ]
  },
  {
   "cell_type": "markdown",
   "metadata": {
    "id": "U0nngqdQVwf4"
   },
   "source": [
    "### EDA: Exploratory Data Analysis"
   ]
  },
  {
   "cell_type": "markdown",
   "metadata": {
    "id": "DQgwwqxvCYrC"
   },
   "source": [
    "##### Observing target feature"
   ]
  },
  {
   "cell_type": "code",
   "execution_count": 8,
   "metadata": {
    "colab": {
     "base_uri": "https://localhost:8080/",
     "height": 351
    },
    "id": "EAG6q7C5UYKz",
    "outputId": "ce74b900-1e4b-4276-faff-da510e1f53a7"
   },
   "outputs": [
    {
     "name": "stdout",
     "output_type": "stream",
     "text": [
      "0    2414\n",
      "1     170\n",
      "Name: class, dtype: int64\n"
     ]
    },
    {
     "data": {
      "text/plain": [
       "Text(0, 0.5, 'count')"
      ]
     },
     "execution_count": 8,
     "metadata": {},
     "output_type": "execute_result"
    },
    {
     "data": {
      "image/png": "[encoded data removed]",
      "text/plain": [
       "<Figure size 432x288 with 1 Axes>"
      ]
     },
     "metadata": {
      "needs_background": "light"
     },
     "output_type": "display_data"
    }
   ],
   "source": [
    "#examining target feature\n",
    "print(data['class'].value_counts())\n",
    "\n",
    "#count plot of each class in target feature\n",
    "sns.countplot(x=data['class'], palette=['teal', 'skyblue'])\n",
    "plt.xlabel('class')\n",
    "plt.ylabel('count')"
   ]
  },
  {
   "cell_type": "markdown",
   "metadata": {
    "id": "zG-yywuIBtjW"
   },
   "source": [
    "This represents that the target feature is having binary values; 0 and 1 representing Non-hazardous state and hazardous state, respectively.\n",
    "\n",
    "Observing that, we can say that instances of Non-hazardous state are more than instances of hazardous state."
   ]
  },
  {
   "cell_type": "markdown",
   "metadata": {
    "id": "nxni4JV6CdH5"
   },
   "source": [
    "##### Observing features via pearson correlation matrix"
   ]
  },
  {
   "cell_type": "code",
   "execution_count": 9,
   "metadata": {
    "colab": {
     "base_uri": "https://localhost:8080/",
     "height": 929
    },
    "id": "sURgruVTXePG",
    "outputId": "eb09cff0-cd72-4dfa-d60c-0972777ddcb9"
   },
   "outputs": [
    {
     "data": {
      "text/plain": [
       "<AxesSubplot:>"
      ]
     },
     "execution_count": 9,
     "metadata": {},
     "output_type": "execute_result"
    },
    {
     "data": {
      "image/png": "[encoded data removed]",
      "text/plain": [
       "<Figure size 1152x1152 with 2 Axes>"
      ]
     },
     "metadata": {
      "needs_background": "light"
     },
     "output_type": "display_data"
    }
   ],
   "source": [
    "#Pearson's correlation matrix\n",
    "plt.figure(figsize=(16,16))\n",
    "sns.heatmap(data=data.corr(), vmax=1, vmin=-2, cmap='gist_earth_r', square=True, annot=True, linewidths=1)"
   ]
  },
  {
   "cell_type": "markdown",
   "metadata": {
    "id": "4icm9wW-C-lo"
   },
   "source": [
    "In the above heatmap, it is observed that genergy and gpuls are strongly correlated along with gdenergy and gdpuls. Energy and maxenergy are seem to be perfectly correlated due to having high correlation coefficient values.\n",
    "\n",
    "On the other side, 'nbumps6', 'nbumps7', and 'nbumps89' are least correlated, therefore these can be removed.\n",
    "\n"
   ]
  },
  {
   "cell_type": "markdown",
   "metadata": {
    "id": "Yo18HukkD-lB"
   },
   "source": [
    "##### Countplots of some all attributes"
   ]
  },
  {
   "cell_type": "code",
   "execution_count": 10,
   "metadata": {
    "colab": {
     "base_uri": "https://localhost:8080/",
     "height": 1000
    },
    "id": "Y-sRl_x0ZdSr",
    "outputId": "fca970c2-5532-4d2f-d7f2-fc189f707a13"
   },
   "outputs": [
    {
     "data": {
      "image/png": "[encoded data removed]",
      "text/plain": [
       "<Figure size 1152x1152 with 18 Axes>"
      ]
     },
     "metadata": {
      "needs_background": "light"
     },
     "output_type": "display_data"
    }
   ],
   "source": [
    "#countplots of attributes\n",
    "columns = [col for col in data.columns if col!='class']\n",
    "plt.figure(figsize = (16,16))\n",
    "for i, col in enumerate(columns):\n",
    "    plt.subplot(6, 3, i+1)\n",
    "    sns.countplot(x = col, data = data, palette=['#432371',\"#FAAE7B\"], hue = 'class')\n",
    "    plt.tight_layout()"
   ]
  },
  {
   "cell_type": "markdown",
   "metadata": {
    "id": "Ntyzzi7vEMFU"
   },
   "source": [
    "Here, 'nbumps6', 'nbumps7', and 'nbumps89' are having all zeros therefore these can be treated as ordinal attributes. These are required to be removed from the data so as to avoid irrelevant data\n",
    "\n",
    "\n"
   ]
  },
  {
   "cell_type": "markdown",
   "metadata": {
    "id": "y95dmVEvE2La"
   },
   "source": [
    "##### Distplots to observe data skewness and distibution"
   ]
  },
  {
   "cell_type": "code",
   "execution_count": 11,
   "metadata": {
    "colab": {
     "base_uri": "https://localhost:8080/",
     "height": 418
    },
    "id": "TjTWHqqbqWDr",
    "outputId": "f59bc39a-d39d-4168-a851-c81ed148960a"
   },
   "outputs": [
    {
     "data": {
      "image/png": "[encoded data removed]",
      "text/plain": [
       "<Figure size 1152x1152 with 6 Axes>"
      ]
     },
     "metadata": {
      "needs_background": "light"
     },
     "output_type": "display_data"
    }
   ],
   "source": [
    "plt.figure(figsize = (16,16))\n",
    "for i, col in enumerate(['genergy', 'gpuls', 'gdenergy', 'gdpuls', 'energy', 'maxenergy']):\n",
    "    plt.subplot(6, 3, i+1)\n",
    "    sns.distplot(data[col], hist=True, color='teal')\n",
    "    plt.tight_layout()"
   ]
  },
  {
   "cell_type": "markdown",
   "metadata": {
    "id": "2QTehcvUE7kb"
   },
   "source": [
    "It can be seen clearly that dataset, on the basis of all continuous attributes, is properly righlty skewed.\n",
    "\n",
    "Also, the values of continuous attributes ranges from 0-40000 approximately."
   ]
  },
  {
   "cell_type": "markdown",
   "metadata": {
    "id": "uLLDiK0cFkO0"
   },
   "source": [
    "### Cleaning of Data"
   ]
  },
  {
   "cell_type": "markdown",
   "metadata": {
    "id": "Vr5ibRM0Fpeg"
   },
   "source": [
    "After exploring dataset using some plots and visuals, some tranformations and cleaning is required."
   ]
  },
  {
   "cell_type": "code",
   "execution_count": 12,
   "metadata": {
    "id": "tGcg_2iNs0VX"
   },
   "outputs": [],
   "source": [
    "#removing 'nbumps6', 'nbumps7', and 'nbumps89' features due to having only 1 category of class\n",
    "data =data.drop(columns=['nbumps6', 'nbumps7', 'nbumps89'], axis=1)"
   ]
  },
  {
   "cell_type": "markdown",
   "metadata": {
    "id": "ZPKitWzVF77a"
   },
   "source": [
    "##### Label Encoding and Scaling"
   ]
  },
  {
   "cell_type": "code",
   "execution_count": 13,
   "metadata": {
    "id": "jKJ54ZvvrrNW"
   },
   "outputs": [],
   "source": [
    "# Label Encoding of features of object dtype\n",
    "for col in data.columns:\n",
    "  if data[col].dtype=='O':\n",
    "    data[col] = LabelEncoder().fit_transform(data[col])\n",
    "  \n",
    "#data info after encoding"
   ]
  },
  {
   "cell_type": "code",
   "execution_count": 14,
   "metadata": {
    "colab": {
     "base_uri": "https://localhost:8080/",
     "height": 194
    },
    "id": "GA2l57ONth_P",
    "outputId": "a92c57fd-89c8-4a10-8f1b-ca2e8d86c5e0"
   },
   "outputs": [
    {
     "data": {
      "text/html": [
       "<div>\n",
       "<style scoped>\n",
       "    .dataframe tbody tr th:only-of-type {\n",
       "        vertical-align: middle;\n",
       "    }\n",
       "\n",
       "    .dataframe tbody tr th {\n",
       "        vertical-align: top;\n",
       "    }\n",
       "\n",
       "    .dataframe thead th {\n",
       "        text-align: right;\n",
       "    }\n",
       "</style>\n",
       "<table border=\"1\" class=\"dataframe\">\n",
       "  <thead>\n",
       "    <tr style=\"text-align: right;\">\n",
       "      <th></th>\n",
       "      <th>seismic</th>\n",
       "      <th>seismoacoustic</th>\n",
       "      <th>shift</th>\n",
       "      <th>genergy</th>\n",
       "      <th>gpuls</th>\n",
       "      <th>gdenergy</th>\n",
       "      <th>gdpuls</th>\n",
       "      <th>ghazard</th>\n",
       "      <th>nbumps</th>\n",
       "      <th>nbumps2</th>\n",
       "      <th>nbumps3</th>\n",
       "      <th>nbumps4</th>\n",
       "      <th>nbumps5</th>\n",
       "      <th>energy</th>\n",
       "      <th>maxenergy</th>\n",
       "      <th>class</th>\n",
       "    </tr>\n",
       "  </thead>\n",
       "  <tbody>\n",
       "    <tr>\n",
       "      <th>0</th>\n",
       "      <td>0</td>\n",
       "      <td>0</td>\n",
       "      <td>0</td>\n",
       "      <td>-0.327561</td>\n",
       "      <td>-0.872073</td>\n",
       "      <td>-1.050711</td>\n",
       "      <td>-1.211459</td>\n",
       "      <td>0</td>\n",
       "      <td>0</td>\n",
       "      <td>0</td>\n",
       "      <td>0</td>\n",
       "      <td>0</td>\n",
       "      <td>0</td>\n",
       "      <td>-0.243327</td>\n",
       "      <td>-0.221087</td>\n",
       "      <td>0</td>\n",
       "    </tr>\n",
       "    <tr>\n",
       "      <th>1</th>\n",
       "      <td>0</td>\n",
       "      <td>0</td>\n",
       "      <td>0</td>\n",
       "      <td>-0.329568</td>\n",
       "      <td>-0.898738</td>\n",
       "      <td>-1.025805</td>\n",
       "      <td>-1.322299</td>\n",
       "      <td>0</td>\n",
       "      <td>1</td>\n",
       "      <td>0</td>\n",
       "      <td>1</td>\n",
       "      <td>0</td>\n",
       "      <td>0</td>\n",
       "      <td>-0.145512</td>\n",
       "      <td>-0.117747</td>\n",
       "      <td>0</td>\n",
       "    </tr>\n",
       "    <tr>\n",
       "      <th>2</th>\n",
       "      <td>0</td>\n",
       "      <td>0</td>\n",
       "      <td>0</td>\n",
       "      <td>-0.358675</td>\n",
       "      <td>-0.904071</td>\n",
       "      <td>-1.162786</td>\n",
       "      <td>-1.306465</td>\n",
       "      <td>0</td>\n",
       "      <td>0</td>\n",
       "      <td>0</td>\n",
       "      <td>0</td>\n",
       "      <td>0</td>\n",
       "      <td>0</td>\n",
       "      <td>-0.243327</td>\n",
       "      <td>-0.221087</td>\n",
       "      <td>0</td>\n",
       "    </tr>\n",
       "    <tr>\n",
       "      <th>3</th>\n",
       "      <td>0</td>\n",
       "      <td>0</td>\n",
       "      <td>0</td>\n",
       "      <td>-0.268038</td>\n",
       "      <td>-0.653424</td>\n",
       "      <td>-0.440526</td>\n",
       "      <td>0.561974</td>\n",
       "      <td>0</td>\n",
       "      <td>1</td>\n",
       "      <td>0</td>\n",
       "      <td>1</td>\n",
       "      <td>0</td>\n",
       "      <td>0</td>\n",
       "      <td>-0.096605</td>\n",
       "      <td>-0.066078</td>\n",
       "      <td>0</td>\n",
       "    </tr>\n",
       "    <tr>\n",
       "      <th>4</th>\n",
       "      <td>0</td>\n",
       "      <td>0</td>\n",
       "      <td>0</td>\n",
       "      <td>-0.338645</td>\n",
       "      <td>-0.856075</td>\n",
       "      <td>-0.938636</td>\n",
       "      <td>-0.894775</td>\n",
       "      <td>0</td>\n",
       "      <td>0</td>\n",
       "      <td>0</td>\n",
       "      <td>0</td>\n",
       "      <td>0</td>\n",
       "      <td>0</td>\n",
       "      <td>-0.243327</td>\n",
       "      <td>-0.221087</td>\n",
       "      <td>0</td>\n",
       "    </tr>\n",
       "  </tbody>\n",
       "</table>\n",
       "</div>"
      ],
      "text/plain": [
       "   seismic  seismoacoustic  shift   genergy     gpuls  gdenergy    gdpuls  \\\n",
       "0        0               0      0 -0.327561 -0.872073 -1.050711 -1.211459   \n",
       "1        0               0      0 -0.329568 -0.898738 -1.025805 -1.322299   \n",
       "2        0               0      0 -0.358675 -0.904071 -1.162786 -1.306465   \n",
       "3        0               0      0 -0.268038 -0.653424 -0.440526  0.561974   \n",
       "4        0               0      0 -0.338645 -0.856075 -0.938636 -0.894775   \n",
       "\n",
       "   ghazard  nbumps   nbumps2  nbumps3  nbumps4  nbumps5    energy  maxenergy  \\\n",
       "0        0       0         0        0        0        0 -0.243327  -0.221087   \n",
       "1        0       1         0        1        0        0 -0.145512  -0.117747   \n",
       "2        0       0         0        0        0        0 -0.243327  -0.221087   \n",
       "3        0       1         0        1        0        0 -0.096605  -0.066078   \n",
       "4        0       0         0        0        0        0 -0.243327  -0.221087   \n",
       "\n",
       "   class  \n",
       "0      0  \n",
       "1      0  \n",
       "2      0  \n",
       "3      0  \n",
       "4      0  "
      ]
     },
     "execution_count": 14,
     "metadata": {},
     "output_type": "execute_result"
    }
   ],
   "source": [
    "#Standard Scaling over continuous features to adjust values inside some fixed range\n",
    "for col in ['genergy', 'gpuls', 'gdenergy', 'gdpuls', 'energy', 'maxenergy']:\n",
    "  data[col] = StandardScaler().fit_transform(data[[col]])\n",
    "\n",
    "#scaled data looks like\n",
    "data.head()"
   ]
  },
  {
   "cell_type": "markdown",
   "metadata": {
    "id": "ZyVesDA3GNI7"
   },
   "source": [
    "### Splitting data into X and y and Principal Component Analysis\n",
    "X: Set of indepedent features\n",
    "y: Dependent features; class"
   ]
  },
  {
   "cell_type": "code",
   "execution_count": 15,
   "metadata": {
    "id": "ULx1p4SWu-As"
   },
   "outputs": [],
   "source": [
    "X = data.drop('class', axis=1)\n",
    "y = data['class']"
   ]
  },
  {
   "cell_type": "code",
   "execution_count": 16,
   "metadata": {
    "id": "shjAjhPMvkRv"
   },
   "outputs": [],
   "source": [
    "#splitting data into train and test sets with ratio 80% and 20%, repsectively\n",
    "X_train, X_test, y_train, y_test = train_test_split(X, y, test_size=0.2, random_state=42, stratify=y)"
   ]
  },
  {
   "cell_type": "code",
   "execution_count": 17,
   "metadata": {
    "colab": {
     "base_uri": "https://localhost:8080/"
    },
    "id": "JYWe5AOSubDn",
    "outputId": "58f02a18-0c29-4c18-e5b1-86e796c97d7f"
   },
   "outputs": [
    {
     "data": {
      "text/plain": [
       "((2067, 10), (2067,))"
      ]
     },
     "execution_count": 17,
     "metadata": {},
     "output_type": "execute_result"
    }
   ],
   "source": [
    "#PCA to reduce the dimensionality of data\n",
    "pca = PCA(n_components=10)\n",
    "X_train = pca.fit_transform(X_train)\n",
    "X_test = pca.transform(X_test)\n",
    "X_train = pd.DataFrame(X_train, columns=['PC'+str(i+1) for i in range(10)])\n",
    "\n",
    "#data with 10 Principle components that holds most of the information\n",
    "X_train.shape, y_train.shape"
   ]
  },
  {
   "cell_type": "markdown",
   "metadata": {
    "id": "ZDv7a-WOHvN-"
   },
   "source": [
    "### Models\n",
    "\n",
    "#### Algorithm 1: Random Forest Classifier"
   ]
  },
  {
   "cell_type": "code",
   "execution_count": 18,
   "metadata": {
    "colab": {
     "base_uri": "https://localhost:8080/"
    },
    "id": "jDHHy6XdwxtV",
    "outputId": "cd326f3b-716d-4476-b6cf-5922638aef4a"
   },
   "outputs": [
    {
     "data": {
      "text/plain": [
       "RandomForestClassifier()"
      ]
     },
     "execution_count": 18,
     "metadata": {},
     "output_type": "execute_result"
    }
   ],
   "source": [
    "#model with Random Forest Classifier\n",
    "model1 = RandomForestClassifier()\n",
    "\n",
    "#training \n",
    "model1.fit(X_train, y_train)"
   ]
  },
  {
   "cell_type": "code",
   "execution_count": 19,
   "metadata": {
    "id": "m3KVlbx9I1RE"
   },
   "outputs": [],
   "source": [
    "#prediction\n",
    "model1_pred =  model1.predict(X_test)"
   ]
  },
  {
   "cell_type": "markdown",
   "metadata": {
    "id": "g0RFBrwHILrB"
   },
   "source": [
    "#### Random Forest's Performance"
   ]
  },
  {
   "cell_type": "code",
   "execution_count": 20,
   "metadata": {
    "colab": {
     "base_uri": "https://localhost:8080/"
    },
    "id": "xWsQQrIaIQLs",
    "outputId": "1c5569d8-ba91-4e8c-f2c0-8be1c1349e10"
   },
   "outputs": [
    {
     "name": "stdout",
     "output_type": "stream",
     "text": [
      "CLASSIFICATION REPORT\n",
      "              precision    recall  f1-score   support\n",
      "\n",
      "           0       0.94      1.00      0.97       483\n",
      "           1       0.50      0.03      0.06        34\n",
      "\n",
      "    accuracy                           0.93       517\n",
      "   macro avg       0.72      0.51      0.51       517\n",
      "weighted avg       0.91      0.93      0.91       517\n",
      "\n",
      "ACCURACY SCORE:  0.9342359767891683\n",
      "LOG LOSS:  0.5072257692764646\n"
     ]
    }
   ],
   "source": [
    "print('CLASSIFICATION REPORT')\n",
    "print(classification_report(y_test, model1_pred))\n",
    "print('ACCURACY SCORE: ', accuracy_score(y_test, model1_pred))\n",
    "print('LOG LOSS: ', log_loss(y_test, model1.predict_proba(X_test)))"
   ]
  },
  {
   "cell_type": "code",
   "execution_count": 21,
   "metadata": {
    "colab": {
     "base_uri": "https://localhost:8080/",
     "height": 297
    },
    "id": "tU2j5OU2Jhgr",
    "outputId": "9fd3491d-b9fc-4322-fd34-93a9fefa5d9b"
   },
   "outputs": [
    {
     "data": {
      "text/plain": [
       "<sklearn.metrics._plot.precision_recall_curve.PrecisionRecallDisplay at 0x7fb0b2b10f40>"
      ]
     },
     "execution_count": 21,
     "metadata": {},
     "output_type": "execute_result"
    },
    {
     "data": {
      "image/png": "[encoded data removed]",
      "text/plain": [
       "<Figure size 432x288 with 1 Axes>"
      ]
     },
     "metadata": {
      "needs_background": "light"
     },
     "output_type": "display_data"
    }
   ],
   "source": [
    "#precision recall curve\n",
    "plot_precision_recall_curve(estimator=model1, X=X_test, y=y_test)"
   ]
  },
  {
   "cell_type": "markdown",
   "metadata": {
    "id": "m1VfREHoKKJG"
   },
   "source": [
    "the precision-recall curve is describing the high area under curve showing high precision and recall values which states low false positive and low false negative rates."
   ]
  },
  {
   "cell_type": "code",
   "execution_count": 22,
   "metadata": {
    "colab": {
     "base_uri": "https://localhost:8080/",
     "height": 297
    },
    "id": "uaKlq4haKkF0",
    "outputId": "82fed280-67c5-4958-9ab9-145882a799f5"
   },
   "outputs": [
    {
     "data": {
      "text/plain": [
       "<sklearn.metrics._plot.confusion_matrix.ConfusionMatrixDisplay at 0x7fb0c75e2fa0>"
      ]
     },
     "execution_count": 22,
     "metadata": {},
     "output_type": "execute_result"
    },
    {
     "data": {
      "image/png": "[encoded data removed]",
      "text/plain": [
       "<Figure size 432x288 with 2 Axes>"
      ]
     },
     "metadata": {
      "needs_background": "light"
     },
     "output_type": "display_data"
    }
   ],
   "source": [
    "#confusion matrix\n",
    "plot_confusion_matrix(estimator=model1, X=X_test, y_true=y_test, cmap='Blues_r')"
   ]
  },
  {
   "cell_type": "markdown",
   "metadata": {
    "id": "7AsIHhRVOKV4"
   },
   "source": [
    "The confusion matrix of this classifier is showing great results with less false predicted values."
   ]
  },
  {
   "cell_type": "markdown",
   "metadata": {
    "id": "qkt6NUklLvL-"
   },
   "source": [
    "#### Algorithm 2: Logistic Regression"
   ]
  },
  {
   "cell_type": "code",
   "execution_count": 23,
   "metadata": {
    "colab": {
     "base_uri": "https://localhost:8080/"
    },
    "id": "e8kv-XG0xEs1",
    "outputId": "93bdd81d-f2ac-479d-aa71-99e26730f054"
   },
   "outputs": [
    {
     "data": {
      "text/plain": [
       "LogisticRegression()"
      ]
     },
     "execution_count": 23,
     "metadata": {},
     "output_type": "execute_result"
    }
   ],
   "source": [
    "#model with Logistic Regression Classifier\n",
    "model2 = LogisticRegression()\n",
    "\n",
    "#training \n",
    "model2.fit(X_train, y_train)"
   ]
  },
  {
   "cell_type": "code",
   "execution_count": 24,
   "metadata": {
    "id": "mo5OP6n7L68L"
   },
   "outputs": [],
   "source": [
    "#prediction\n",
    "model2_pred =  model2.predict(X_test)"
   ]
  },
  {
   "cell_type": "markdown",
   "metadata": {
    "id": "uW6k1UgcMA6A"
   },
   "source": [
    "#### Logistic Regression's Performance"
   ]
  },
  {
   "cell_type": "code",
   "execution_count": 25,
   "metadata": {
    "colab": {
     "base_uri": "https://localhost:8080/"
    },
    "id": "mUlU3Fi4MIhJ",
    "outputId": "cfa8e3e1-44bf-48c3-b7ce-b8559df7660d"
   },
   "outputs": [
    {
     "name": "stdout",
     "output_type": "stream",
     "text": [
      "CLASSIFICATION REPORT\n",
      "              precision    recall  f1-score   support\n",
      "\n",
      "           0       0.94      0.99      0.96       483\n",
      "           1       0.25      0.03      0.05        34\n",
      "\n",
      "    accuracy                           0.93       517\n",
      "   macro avg       0.59      0.51      0.51       517\n",
      "weighted avg       0.89      0.93      0.90       517\n",
      "\n",
      "ACCURACY SCORE:  0.9303675048355899\n",
      "LOG LOSS:  0.21040953044329763\n"
     ]
    }
   ],
   "source": [
    "print('CLASSIFICATION REPORT')\n",
    "print(classification_report(y_test, model2_pred))\n",
    "print('ACCURACY SCORE: ', accuracy_score(y_test, model2_pred))\n",
    "print('LOG LOSS: ', log_loss(y_test, model2.predict_proba(X_test)))"
   ]
  },
  {
   "cell_type": "code",
   "execution_count": 26,
   "metadata": {
    "colab": {
     "base_uri": "https://localhost:8080/",
     "height": 297
    },
    "id": "p3HRiFD3MVM5",
    "outputId": "bf10160c-445e-425e-e192-08baf83a76d8"
   },
   "outputs": [
    {
     "data": {
      "text/plain": [
       "<sklearn.metrics._plot.precision_recall_curve.PrecisionRecallDisplay at 0x7fb0b32b6f70>"
      ]
     },
     "execution_count": 26,
     "metadata": {},
     "output_type": "execute_result"
    },
    {
     "data": {
      "image/png": "[encoded data removed]",
      "text/plain": [
       "<Figure size 432x288 with 1 Axes>"
      ]
     },
     "metadata": {
      "needs_background": "light"
     },
     "output_type": "display_data"
    }
   ],
   "source": [
    "#precision recall curve\n",
    "plot_precision_recall_curve(estimator=model2, X=X_test, y=y_test)"
   ]
  },
  {
   "cell_type": "markdown",
   "metadata": {
    "id": "9YWe-X37OdN6"
   },
   "source": [
    "the precision-recall curve of this model is describing the comparatively low area under curve showing comparatively lower  precision and recall values which states some false positive and false negative rates."
   ]
  },
  {
   "cell_type": "code",
   "execution_count": 27,
   "metadata": {
    "colab": {
     "base_uri": "https://localhost:8080/",
     "height": 297
    },
    "id": "7gSHkO1SMmRx",
    "outputId": "ae1b6807-8a20-4f93-e152-fcf8b8b98797"
   },
   "outputs": [
    {
     "data": {
      "text/plain": [
       "<sklearn.metrics._plot.confusion_matrix.ConfusionMatrixDisplay at 0x7fb0a02b76a0>"
      ]
     },
     "execution_count": 27,
     "metadata": {},
     "output_type": "execute_result"
    },
    {
     "data": {
      "image/png": "[encoded data removed]",
      "text/plain": [
       "<Figure size 432x288 with 2 Axes>"
      ]
     },
     "metadata": {
      "needs_background": "light"
     },
     "output_type": "display_data"
    }
   ],
   "source": [
    "#confusion matrix\n",
    "plot_confusion_matrix(estimator=model2, X=X_test, y_true=y_test, cmap='Blues_r')"
   ]
  },
  {
   "cell_type": "markdown",
   "metadata": {
    "id": "y0yJLn17-o7t"
   },
   "source": [
    "The confusion matrix of this classifier is showing comparatively greater false predicted values."
   ]
  },
  {
   "cell_type": "markdown",
   "metadata": {
    "id": "_z-0zTaKMx1o"
   },
   "source": [
    "#### Algorithm 3: Catboost Classifier"
   ]
  },
  {
   "cell_type": "code",
   "execution_count": 28,
   "metadata": {
    "id": "KJkWuKHlxPux"
   },
   "outputs": [
    {
     "name": "stdout",
     "output_type": "stream",
     "text": [
      "Learning rate set to 0.014047\n",
      "0:\tlearn: 0.6741526\ttotal: 59.6ms\tremaining: 59.5s\n",
      "1:\tlearn: 0.6552077\ttotal: 61.2ms\tremaining: 30.5s\n",
      "2:\tlearn: 0.6364943\ttotal: 62.5ms\tremaining: 20.8s\n",
      "3:\tlearn: 0.6188626\ttotal: 63.8ms\tremaining: 15.9s\n",
      "4:\tlearn: 0.6045588\ttotal: 65.2ms\tremaining: 13s\n",
      "5:\tlearn: 0.5904408\ttotal: 66.3ms\tremaining: 11s\n",
      "6:\tlearn: 0.5753959\ttotal: 67.8ms\tremaining: 9.62s\n",
      "7:\tlearn: 0.5618662\ttotal: 69.3ms\tremaining: 8.59s\n",
      "8:\tlearn: 0.5492146\ttotal: 71.2ms\tremaining: 7.84s\n",
      "9:\tlearn: 0.5354750\ttotal: 72.7ms\tremaining: 7.2s\n",
      "10:\tlearn: 0.5219430\ttotal: 74.1ms\tremaining: 6.66s\n",
      "11:\tlearn: 0.5104339\ttotal: 76.1ms\tremaining: 6.27s\n",
      "12:\tlearn: 0.4987032\ttotal: 77.4ms\tremaining: 5.88s\n",
      "13:\tlearn: 0.4873430\ttotal: 78.8ms\tremaining: 5.55s\n",
      "14:\tlearn: 0.4764050\ttotal: 80.3ms\tremaining: 5.27s\n",
      "15:\tlearn: 0.4653148\ttotal: 81.4ms\tremaining: 5.01s\n",
      "16:\tlearn: 0.4548670\ttotal: 83.1ms\tremaining: 4.8s\n",
      "17:\tlearn: 0.4457427\ttotal: 84.7ms\tremaining: 4.62s\n",
      "18:\tlearn: 0.4360307\ttotal: 86.6ms\tremaining: 4.47s\n",
      "19:\tlearn: 0.4266479\ttotal: 88.1ms\tremaining: 4.32s\n",
      "20:\tlearn: 0.4175233\ttotal: 89.5ms\tremaining: 4.17s\n",
      "21:\tlearn: 0.4092699\ttotal: 91ms\tremaining: 4.05s\n",
      "22:\tlearn: 0.4008381\ttotal: 92.5ms\tremaining: 3.93s\n",
      "23:\tlearn: 0.3924211\ttotal: 93.8ms\tremaining: 3.81s\n",
      "24:\tlearn: 0.3848484\ttotal: 95.1ms\tremaining: 3.71s\n",
      "25:\tlearn: 0.3782348\ttotal: 96.2ms\tremaining: 3.6s\n",
      "26:\tlearn: 0.3709578\ttotal: 98.2ms\tremaining: 3.54s\n",
      "27:\tlearn: 0.3650831\ttotal: 100ms\tremaining: 3.47s\n",
      "28:\tlearn: 0.3588665\ttotal: 102ms\tremaining: 3.42s\n",
      "29:\tlearn: 0.3526076\ttotal: 104ms\tremaining: 3.35s\n",
      "30:\tlearn: 0.3462617\ttotal: 105ms\tremaining: 3.28s\n",
      "31:\tlearn: 0.3401468\ttotal: 106ms\tremaining: 3.21s\n",
      "32:\tlearn: 0.3346111\ttotal: 107ms\tremaining: 3.15s\n",
      "33:\tlearn: 0.3295687\ttotal: 109ms\tremaining: 3.09s\n",
      "34:\tlearn: 0.3245216\ttotal: 110ms\tremaining: 3.04s\n",
      "35:\tlearn: 0.3202405\ttotal: 111ms\tremaining: 2.98s\n",
      "36:\tlearn: 0.3155163\ttotal: 113ms\tremaining: 2.93s\n",
      "37:\tlearn: 0.3107413\ttotal: 114ms\tremaining: 2.88s\n",
      "38:\tlearn: 0.3066890\ttotal: 116ms\tremaining: 2.85s\n",
      "39:\tlearn: 0.3022560\ttotal: 117ms\tremaining: 2.81s\n",
      "40:\tlearn: 0.2982491\ttotal: 118ms\tremaining: 2.76s\n",
      "41:\tlearn: 0.2953001\ttotal: 119ms\tremaining: 2.71s\n",
      "42:\tlearn: 0.2918753\ttotal: 120ms\tremaining: 2.68s\n",
      "43:\tlearn: 0.2886496\ttotal: 122ms\tremaining: 2.64s\n",
      "44:\tlearn: 0.2854214\ttotal: 123ms\tremaining: 2.6s\n",
      "45:\tlearn: 0.2817984\ttotal: 124ms\tremaining: 2.57s\n",
      "46:\tlearn: 0.2790064\ttotal: 125ms\tremaining: 2.54s\n",
      "47:\tlearn: 0.2758241\ttotal: 127ms\tremaining: 2.52s\n",
      "48:\tlearn: 0.2725770\ttotal: 128ms\tremaining: 2.49s\n",
      "49:\tlearn: 0.2704417\ttotal: 130ms\tremaining: 2.47s\n",
      "50:\tlearn: 0.2678049\ttotal: 132ms\tremaining: 2.45s\n",
      "51:\tlearn: 0.2655716\ttotal: 133ms\tremaining: 2.43s\n",
      "52:\tlearn: 0.2630256\ttotal: 135ms\tremaining: 2.4s\n",
      "53:\tlearn: 0.2601630\ttotal: 136ms\tremaining: 2.38s\n",
      "54:\tlearn: 0.2578180\ttotal: 137ms\tremaining: 2.36s\n",
      "55:\tlearn: 0.2556010\ttotal: 139ms\tremaining: 2.33s\n",
      "56:\tlearn: 0.2532029\ttotal: 140ms\tremaining: 2.32s\n",
      "57:\tlearn: 0.2510632\ttotal: 141ms\tremaining: 2.3s\n",
      "58:\tlearn: 0.2488997\ttotal: 143ms\tremaining: 2.28s\n",
      "59:\tlearn: 0.2472053\ttotal: 144ms\tremaining: 2.26s\n",
      "60:\tlearn: 0.2451453\ttotal: 145ms\tremaining: 2.23s\n",
      "61:\tlearn: 0.2434875\ttotal: 147ms\tremaining: 2.22s\n",
      "62:\tlearn: 0.2417676\ttotal: 148ms\tremaining: 2.2s\n",
      "63:\tlearn: 0.2398746\ttotal: 149ms\tremaining: 2.19s\n",
      "64:\tlearn: 0.2384243\ttotal: 151ms\tremaining: 2.17s\n",
      "65:\tlearn: 0.2366762\ttotal: 152ms\tremaining: 2.15s\n",
      "66:\tlearn: 0.2354232\ttotal: 153ms\tremaining: 2.13s\n",
      "67:\tlearn: 0.2337680\ttotal: 155ms\tremaining: 2.12s\n",
      "68:\tlearn: 0.2323975\ttotal: 156ms\tremaining: 2.11s\n",
      "69:\tlearn: 0.2306090\ttotal: 157ms\tremaining: 2.09s\n",
      "70:\tlearn: 0.2288665\ttotal: 159ms\tremaining: 2.08s\n",
      "71:\tlearn: 0.2274221\ttotal: 160ms\tremaining: 2.06s\n",
      "72:\tlearn: 0.2259308\ttotal: 161ms\tremaining: 2.05s\n",
      "73:\tlearn: 0.2244880\ttotal: 163ms\tremaining: 2.04s\n",
      "74:\tlearn: 0.2229968\ttotal: 164ms\tremaining: 2.02s\n",
      "75:\tlearn: 0.2215349\ttotal: 165ms\tremaining: 2.01s\n",
      "76:\tlearn: 0.2203710\ttotal: 167ms\tremaining: 2s\n",
      "77:\tlearn: 0.2191638\ttotal: 168ms\tremaining: 1.99s\n",
      "78:\tlearn: 0.2182336\ttotal: 170ms\tremaining: 1.98s\n",
      "79:\tlearn: 0.2172466\ttotal: 171ms\tremaining: 1.97s\n",
      "80:\tlearn: 0.2162573\ttotal: 173ms\tremaining: 1.96s\n",
      "81:\tlearn: 0.2154912\ttotal: 174ms\tremaining: 1.95s\n",
      "82:\tlearn: 0.2145716\ttotal: 176ms\tremaining: 1.94s\n",
      "83:\tlearn: 0.2137805\ttotal: 177ms\tremaining: 1.93s\n",
      "84:\tlearn: 0.2128302\ttotal: 179ms\tremaining: 1.92s\n",
      "85:\tlearn: 0.2119160\ttotal: 180ms\tremaining: 1.91s\n",
      "86:\tlearn: 0.2109458\ttotal: 181ms\tremaining: 1.9s\n",
      "87:\tlearn: 0.2099944\ttotal: 182ms\tremaining: 1.89s\n",
      "88:\tlearn: 0.2090481\ttotal: 184ms\tremaining: 1.88s\n",
      "89:\tlearn: 0.2082502\ttotal: 185ms\tremaining: 1.87s\n",
      "90:\tlearn: 0.2073846\ttotal: 187ms\tremaining: 1.86s\n",
      "91:\tlearn: 0.2067473\ttotal: 188ms\tremaining: 1.85s\n",
      "92:\tlearn: 0.2058637\ttotal: 189ms\tremaining: 1.85s\n",
      "93:\tlearn: 0.2051610\ttotal: 191ms\tremaining: 1.84s\n",
      "94:\tlearn: 0.2043671\ttotal: 192ms\tremaining: 1.83s\n",
      "95:\tlearn: 0.2033708\ttotal: 195ms\tremaining: 1.83s\n",
      "96:\tlearn: 0.2023838\ttotal: 196ms\tremaining: 1.82s\n",
      "97:\tlearn: 0.2016248\ttotal: 198ms\tremaining: 1.82s\n",
      "98:\tlearn: 0.2007094\ttotal: 199ms\tremaining: 1.81s\n",
      "99:\tlearn: 0.2000969\ttotal: 201ms\tremaining: 1.8s\n",
      "100:\tlearn: 0.1993499\ttotal: 202ms\tremaining: 1.8s\n",
      "101:\tlearn: 0.1989470\ttotal: 203ms\tremaining: 1.79s\n",
      "102:\tlearn: 0.1982745\ttotal: 205ms\tremaining: 1.78s\n",
      "103:\tlearn: 0.1975860\ttotal: 206ms\tremaining: 1.78s\n",
      "104:\tlearn: 0.1970400\ttotal: 208ms\tremaining: 1.77s\n",
      "105:\tlearn: 0.1964177\ttotal: 210ms\tremaining: 1.77s\n",
      "106:\tlearn: 0.1957793\ttotal: 211ms\tremaining: 1.76s\n",
      "107:\tlearn: 0.1952321\ttotal: 213ms\tremaining: 1.75s\n",
      "108:\tlearn: 0.1945138\ttotal: 214ms\tremaining: 1.75s\n",
      "109:\tlearn: 0.1940116\ttotal: 216ms\tremaining: 1.74s\n",
      "110:\tlearn: 0.1933224\ttotal: 217ms\tremaining: 1.74s\n",
      "111:\tlearn: 0.1927276\ttotal: 219ms\tremaining: 1.74s\n",
      "112:\tlearn: 0.1923518\ttotal: 221ms\tremaining: 1.73s\n",
      "113:\tlearn: 0.1918427\ttotal: 222ms\tremaining: 1.73s\n",
      "114:\tlearn: 0.1914394\ttotal: 224ms\tremaining: 1.73s\n",
      "115:\tlearn: 0.1908312\ttotal: 226ms\tremaining: 1.72s\n",
      "116:\tlearn: 0.1904268\ttotal: 227ms\tremaining: 1.71s\n",
      "117:\tlearn: 0.1899391\ttotal: 228ms\tremaining: 1.71s\n",
      "118:\tlearn: 0.1894751\ttotal: 230ms\tremaining: 1.7s\n",
      "119:\tlearn: 0.1890225\ttotal: 231ms\tremaining: 1.7s\n",
      "120:\tlearn: 0.1885592\ttotal: 233ms\tremaining: 1.69s\n",
      "121:\tlearn: 0.1881385\ttotal: 234ms\tremaining: 1.69s\n",
      "122:\tlearn: 0.1877116\ttotal: 236ms\tremaining: 1.68s\n",
      "123:\tlearn: 0.1872816\ttotal: 237ms\tremaining: 1.68s\n",
      "124:\tlearn: 0.1868173\ttotal: 239ms\tremaining: 1.67s\n",
      "125:\tlearn: 0.1863608\ttotal: 241ms\tremaining: 1.67s\n",
      "126:\tlearn: 0.1859731\ttotal: 243ms\tremaining: 1.67s\n",
      "127:\tlearn: 0.1854431\ttotal: 244ms\tremaining: 1.66s\n",
      "128:\tlearn: 0.1850730\ttotal: 245ms\tremaining: 1.66s\n",
      "129:\tlearn: 0.1847071\ttotal: 247ms\tremaining: 1.65s\n",
      "130:\tlearn: 0.1842736\ttotal: 248ms\tremaining: 1.65s\n",
      "131:\tlearn: 0.1837490\ttotal: 250ms\tremaining: 1.64s\n",
      "132:\tlearn: 0.1833652\ttotal: 251ms\tremaining: 1.64s\n",
      "133:\tlearn: 0.1829712\ttotal: 253ms\tremaining: 1.64s\n",
      "134:\tlearn: 0.1825926\ttotal: 255ms\tremaining: 1.63s\n",
      "135:\tlearn: 0.1822315\ttotal: 257ms\tremaining: 1.63s\n",
      "136:\tlearn: 0.1819870\ttotal: 258ms\tremaining: 1.63s\n",
      "137:\tlearn: 0.1813246\ttotal: 260ms\tremaining: 1.62s\n",
      "138:\tlearn: 0.1808685\ttotal: 261ms\tremaining: 1.61s\n",
      "139:\tlearn: 0.1804193\ttotal: 262ms\tremaining: 1.61s\n",
      "140:\tlearn: 0.1800913\ttotal: 264ms\tremaining: 1.6s\n",
      "141:\tlearn: 0.1797852\ttotal: 265ms\tremaining: 1.6s\n",
      "142:\tlearn: 0.1794053\ttotal: 266ms\tremaining: 1.59s\n",
      "143:\tlearn: 0.1790583\ttotal: 268ms\tremaining: 1.59s\n",
      "144:\tlearn: 0.1786675\ttotal: 269ms\tremaining: 1.59s\n",
      "145:\tlearn: 0.1784190\ttotal: 271ms\tremaining: 1.58s\n",
      "146:\tlearn: 0.1780598\ttotal: 273ms\tremaining: 1.58s\n",
      "147:\tlearn: 0.1776999\ttotal: 274ms\tremaining: 1.58s\n",
      "148:\tlearn: 0.1774246\ttotal: 276ms\tremaining: 1.57s\n",
      "149:\tlearn: 0.1771065\ttotal: 277ms\tremaining: 1.57s\n",
      "150:\tlearn: 0.1769167\ttotal: 279ms\tremaining: 1.57s\n",
      "151:\tlearn: 0.1766329\ttotal: 281ms\tremaining: 1.56s\n",
      "152:\tlearn: 0.1762643\ttotal: 282ms\tremaining: 1.56s\n",
      "153:\tlearn: 0.1759535\ttotal: 283ms\tremaining: 1.56s\n",
      "154:\tlearn: 0.1756728\ttotal: 284ms\tremaining: 1.55s\n",
      "155:\tlearn: 0.1752157\ttotal: 286ms\tremaining: 1.54s\n",
      "156:\tlearn: 0.1749099\ttotal: 288ms\tremaining: 1.55s\n",
      "157:\tlearn: 0.1745895\ttotal: 289ms\tremaining: 1.54s\n",
      "158:\tlearn: 0.1742269\ttotal: 290ms\tremaining: 1.54s\n",
      "159:\tlearn: 0.1739729\ttotal: 292ms\tremaining: 1.53s\n",
      "160:\tlearn: 0.1736932\ttotal: 293ms\tremaining: 1.53s\n",
      "161:\tlearn: 0.1734304\ttotal: 294ms\tremaining: 1.52s\n",
      "162:\tlearn: 0.1730772\ttotal: 295ms\tremaining: 1.52s\n",
      "163:\tlearn: 0.1728458\ttotal: 296ms\tremaining: 1.51s\n",
      "164:\tlearn: 0.1725416\ttotal: 298ms\tremaining: 1.51s\n",
      "165:\tlearn: 0.1723522\ttotal: 299ms\tremaining: 1.5s\n",
      "166:\tlearn: 0.1720174\ttotal: 300ms\tremaining: 1.5s\n",
      "167:\tlearn: 0.1717192\ttotal: 302ms\tremaining: 1.5s\n",
      "168:\tlearn: 0.1714725\ttotal: 304ms\tremaining: 1.5s\n",
      "169:\tlearn: 0.1711171\ttotal: 306ms\tremaining: 1.49s\n",
      "170:\tlearn: 0.1708395\ttotal: 307ms\tremaining: 1.49s\n",
      "171:\tlearn: 0.1705141\ttotal: 308ms\tremaining: 1.48s\n",
      "172:\tlearn: 0.1701943\ttotal: 310ms\tremaining: 1.48s\n",
      "173:\tlearn: 0.1698100\ttotal: 311ms\tremaining: 1.48s\n",
      "174:\tlearn: 0.1696201\ttotal: 313ms\tremaining: 1.47s\n",
      "175:\tlearn: 0.1692696\ttotal: 314ms\tremaining: 1.47s\n",
      "176:\tlearn: 0.1688588\ttotal: 316ms\tremaining: 1.47s\n",
      "177:\tlearn: 0.1685918\ttotal: 317ms\tremaining: 1.47s\n",
      "178:\tlearn: 0.1683503\ttotal: 319ms\tremaining: 1.46s\n",
      "179:\tlearn: 0.1680613\ttotal: 320ms\tremaining: 1.46s\n",
      "180:\tlearn: 0.1678560\ttotal: 321ms\tremaining: 1.45s\n",
      "181:\tlearn: 0.1675611\ttotal: 323ms\tremaining: 1.45s\n",
      "182:\tlearn: 0.1672139\ttotal: 325ms\tremaining: 1.45s\n",
      "183:\tlearn: 0.1669471\ttotal: 327ms\tremaining: 1.45s\n",
      "184:\tlearn: 0.1667624\ttotal: 328ms\tremaining: 1.44s\n",
      "185:\tlearn: 0.1664572\ttotal: 329ms\tremaining: 1.44s\n",
      "186:\tlearn: 0.1662092\ttotal: 331ms\tremaining: 1.44s\n",
      "187:\tlearn: 0.1659111\ttotal: 333ms\tremaining: 1.44s\n",
      "188:\tlearn: 0.1656556\ttotal: 334ms\tremaining: 1.43s\n",
      "189:\tlearn: 0.1653822\ttotal: 336ms\tremaining: 1.43s\n",
      "190:\tlearn: 0.1651626\ttotal: 337ms\tremaining: 1.43s\n",
      "191:\tlearn: 0.1649121\ttotal: 338ms\tremaining: 1.42s\n",
      "192:\tlearn: 0.1647588\ttotal: 339ms\tremaining: 1.42s\n",
      "193:\tlearn: 0.1646708\ttotal: 340ms\tremaining: 1.41s\n",
      "194:\tlearn: 0.1644883\ttotal: 342ms\tremaining: 1.41s\n",
      "195:\tlearn: 0.1642679\ttotal: 343ms\tremaining: 1.41s\n",
      "196:\tlearn: 0.1639674\ttotal: 344ms\tremaining: 1.4s\n",
      "197:\tlearn: 0.1638407\ttotal: 346ms\tremaining: 1.4s\n",
      "198:\tlearn: 0.1635358\ttotal: 347ms\tremaining: 1.4s\n",
      "199:\tlearn: 0.1633745\ttotal: 348ms\tremaining: 1.39s\n",
      "200:\tlearn: 0.1630974\ttotal: 349ms\tremaining: 1.39s\n",
      "201:\tlearn: 0.1628742\ttotal: 351ms\tremaining: 1.39s\n",
      "202:\tlearn: 0.1626539\ttotal: 352ms\tremaining: 1.38s\n",
      "203:\tlearn: 0.1624329\ttotal: 353ms\tremaining: 1.38s\n",
      "204:\tlearn: 0.1621657\ttotal: 354ms\tremaining: 1.37s\n",
      "205:\tlearn: 0.1620588\ttotal: 356ms\tremaining: 1.37s\n",
      "206:\tlearn: 0.1618780\ttotal: 357ms\tremaining: 1.37s\n",
      "207:\tlearn: 0.1616865\ttotal: 358ms\tremaining: 1.36s\n",
      "208:\tlearn: 0.1614321\ttotal: 360ms\tremaining: 1.36s\n",
      "209:\tlearn: 0.1611699\ttotal: 361ms\tremaining: 1.36s\n",
      "210:\tlearn: 0.1609080\ttotal: 362ms\tremaining: 1.35s\n",
      "211:\tlearn: 0.1607594\ttotal: 363ms\tremaining: 1.35s\n",
      "212:\tlearn: 0.1606141\ttotal: 364ms\tremaining: 1.34s\n",
      "213:\tlearn: 0.1604313\ttotal: 365ms\tremaining: 1.34s\n",
      "214:\tlearn: 0.1602217\ttotal: 367ms\tremaining: 1.34s\n",
      "215:\tlearn: 0.1600037\ttotal: 368ms\tremaining: 1.33s\n",
      "216:\tlearn: 0.1598870\ttotal: 369ms\tremaining: 1.33s\n",
      "217:\tlearn: 0.1597509\ttotal: 371ms\tremaining: 1.33s\n",
      "218:\tlearn: 0.1595514\ttotal: 372ms\tremaining: 1.33s\n",
      "219:\tlearn: 0.1593484\ttotal: 373ms\tremaining: 1.32s\n",
      "220:\tlearn: 0.1591701\ttotal: 375ms\tremaining: 1.32s\n",
      "221:\tlearn: 0.1589347\ttotal: 376ms\tremaining: 1.32s\n",
      "222:\tlearn: 0.1587141\ttotal: 377ms\tremaining: 1.31s\n",
      "223:\tlearn: 0.1585941\ttotal: 379ms\tremaining: 1.31s\n",
      "224:\tlearn: 0.1583876\ttotal: 380ms\tremaining: 1.31s\n",
      "225:\tlearn: 0.1581120\ttotal: 381ms\tremaining: 1.3s\n"
     ]
    },
    {
     "name": "stdout",
     "output_type": "stream",
     "text": [
      "226:\tlearn: 0.1577954\ttotal: 383ms\tremaining: 1.3s\n",
      "227:\tlearn: 0.1576016\ttotal: 384ms\tremaining: 1.3s\n",
      "228:\tlearn: 0.1573051\ttotal: 386ms\tremaining: 1.3s\n",
      "229:\tlearn: 0.1571046\ttotal: 387ms\tremaining: 1.29s\n",
      "230:\tlearn: 0.1568294\ttotal: 388ms\tremaining: 1.29s\n",
      "231:\tlearn: 0.1566523\ttotal: 389ms\tremaining: 1.29s\n",
      "232:\tlearn: 0.1563982\ttotal: 391ms\tremaining: 1.29s\n",
      "233:\tlearn: 0.1561465\ttotal: 392ms\tremaining: 1.28s\n",
      "234:\tlearn: 0.1558673\ttotal: 393ms\tremaining: 1.28s\n",
      "235:\tlearn: 0.1556380\ttotal: 395ms\tremaining: 1.28s\n",
      "236:\tlearn: 0.1553963\ttotal: 396ms\tremaining: 1.27s\n",
      "237:\tlearn: 0.1552512\ttotal: 398ms\tremaining: 1.27s\n",
      "238:\tlearn: 0.1549814\ttotal: 399ms\tremaining: 1.27s\n",
      "239:\tlearn: 0.1548442\ttotal: 400ms\tremaining: 1.27s\n",
      "240:\tlearn: 0.1546638\ttotal: 401ms\tremaining: 1.26s\n",
      "241:\tlearn: 0.1545678\ttotal: 403ms\tremaining: 1.26s\n",
      "242:\tlearn: 0.1543927\ttotal: 405ms\tremaining: 1.26s\n",
      "243:\tlearn: 0.1541983\ttotal: 406ms\tremaining: 1.26s\n",
      "244:\tlearn: 0.1539653\ttotal: 407ms\tremaining: 1.25s\n",
      "245:\tlearn: 0.1538112\ttotal: 408ms\tremaining: 1.25s\n",
      "246:\tlearn: 0.1536350\ttotal: 409ms\tremaining: 1.25s\n",
      "247:\tlearn: 0.1534287\ttotal: 411ms\tremaining: 1.25s\n",
      "248:\tlearn: 0.1532455\ttotal: 412ms\tremaining: 1.24s\n",
      "249:\tlearn: 0.1530253\ttotal: 413ms\tremaining: 1.24s\n",
      "250:\tlearn: 0.1528366\ttotal: 414ms\tremaining: 1.24s\n",
      "251:\tlearn: 0.1526157\ttotal: 416ms\tremaining: 1.23s\n",
      "252:\tlearn: 0.1524777\ttotal: 418ms\tremaining: 1.23s\n",
      "253:\tlearn: 0.1522947\ttotal: 419ms\tremaining: 1.23s\n",
      "254:\tlearn: 0.1520953\ttotal: 420ms\tremaining: 1.23s\n",
      "255:\tlearn: 0.1518826\ttotal: 422ms\tremaining: 1.23s\n",
      "256:\tlearn: 0.1516727\ttotal: 424ms\tremaining: 1.22s\n",
      "257:\tlearn: 0.1514464\ttotal: 425ms\tremaining: 1.22s\n",
      "258:\tlearn: 0.1512886\ttotal: 426ms\tremaining: 1.22s\n",
      "259:\tlearn: 0.1510736\ttotal: 427ms\tremaining: 1.22s\n",
      "260:\tlearn: 0.1509623\ttotal: 428ms\tremaining: 1.21s\n",
      "261:\tlearn: 0.1506590\ttotal: 429ms\tremaining: 1.21s\n",
      "262:\tlearn: 0.1504217\ttotal: 431ms\tremaining: 1.21s\n",
      "263:\tlearn: 0.1502835\ttotal: 433ms\tremaining: 1.21s\n",
      "264:\tlearn: 0.1501986\ttotal: 434ms\tremaining: 1.2s\n",
      "265:\tlearn: 0.1500333\ttotal: 435ms\tremaining: 1.2s\n",
      "266:\tlearn: 0.1498800\ttotal: 436ms\tremaining: 1.2s\n",
      "267:\tlearn: 0.1496669\ttotal: 437ms\tremaining: 1.19s\n",
      "268:\tlearn: 0.1494190\ttotal: 439ms\tremaining: 1.19s\n",
      "269:\tlearn: 0.1491731\ttotal: 441ms\tremaining: 1.19s\n",
      "270:\tlearn: 0.1488977\ttotal: 442ms\tremaining: 1.19s\n",
      "271:\tlearn: 0.1487514\ttotal: 443ms\tremaining: 1.19s\n",
      "272:\tlearn: 0.1484765\ttotal: 445ms\tremaining: 1.18s\n",
      "273:\tlearn: 0.1481987\ttotal: 446ms\tremaining: 1.18s\n",
      "274:\tlearn: 0.1480068\ttotal: 447ms\tremaining: 1.18s\n",
      "275:\tlearn: 0.1478094\ttotal: 448ms\tremaining: 1.18s\n",
      "276:\tlearn: 0.1475724\ttotal: 450ms\tremaining: 1.17s\n",
      "277:\tlearn: 0.1474463\ttotal: 451ms\tremaining: 1.17s\n",
      "278:\tlearn: 0.1473128\ttotal: 452ms\tremaining: 1.17s\n",
      "279:\tlearn: 0.1471850\ttotal: 453ms\tremaining: 1.17s\n",
      "280:\tlearn: 0.1470716\ttotal: 454ms\tremaining: 1.16s\n",
      "281:\tlearn: 0.1468507\ttotal: 455ms\tremaining: 1.16s\n",
      "282:\tlearn: 0.1466999\ttotal: 457ms\tremaining: 1.16s\n",
      "283:\tlearn: 0.1465791\ttotal: 458ms\tremaining: 1.16s\n",
      "284:\tlearn: 0.1463987\ttotal: 460ms\tremaining: 1.15s\n",
      "285:\tlearn: 0.1462180\ttotal: 461ms\tremaining: 1.15s\n",
      "286:\tlearn: 0.1460837\ttotal: 462ms\tremaining: 1.15s\n",
      "287:\tlearn: 0.1458463\ttotal: 464ms\tremaining: 1.15s\n",
      "288:\tlearn: 0.1456648\ttotal: 465ms\tremaining: 1.14s\n",
      "289:\tlearn: 0.1454810\ttotal: 466ms\tremaining: 1.14s\n",
      "290:\tlearn: 0.1453250\ttotal: 468ms\tremaining: 1.14s\n",
      "291:\tlearn: 0.1451571\ttotal: 470ms\tremaining: 1.14s\n",
      "292:\tlearn: 0.1450097\ttotal: 471ms\tremaining: 1.14s\n",
      "293:\tlearn: 0.1448551\ttotal: 472ms\tremaining: 1.13s\n",
      "294:\tlearn: 0.1446492\ttotal: 473ms\tremaining: 1.13s\n",
      "295:\tlearn: 0.1444685\ttotal: 475ms\tremaining: 1.13s\n",
      "296:\tlearn: 0.1442867\ttotal: 476ms\tremaining: 1.13s\n",
      "297:\tlearn: 0.1441249\ttotal: 478ms\tremaining: 1.12s\n",
      "298:\tlearn: 0.1438848\ttotal: 479ms\tremaining: 1.12s\n",
      "299:\tlearn: 0.1436928\ttotal: 480ms\tremaining: 1.12s\n",
      "300:\tlearn: 0.1435697\ttotal: 482ms\tremaining: 1.12s\n",
      "301:\tlearn: 0.1434211\ttotal: 483ms\tremaining: 1.11s\n",
      "302:\tlearn: 0.1432443\ttotal: 484ms\tremaining: 1.11s\n",
      "303:\tlearn: 0.1430687\ttotal: 486ms\tremaining: 1.11s\n",
      "304:\tlearn: 0.1428536\ttotal: 487ms\tremaining: 1.11s\n",
      "305:\tlearn: 0.1427855\ttotal: 488ms\tremaining: 1.11s\n",
      "306:\tlearn: 0.1425835\ttotal: 489ms\tremaining: 1.1s\n",
      "307:\tlearn: 0.1424722\ttotal: 491ms\tremaining: 1.1s\n",
      "308:\tlearn: 0.1423308\ttotal: 492ms\tremaining: 1.1s\n",
      "309:\tlearn: 0.1421788\ttotal: 493ms\tremaining: 1.1s\n",
      "310:\tlearn: 0.1420202\ttotal: 495ms\tremaining: 1.1s\n",
      "311:\tlearn: 0.1418617\ttotal: 496ms\tremaining: 1.09s\n",
      "312:\tlearn: 0.1417593\ttotal: 497ms\tremaining: 1.09s\n",
      "313:\tlearn: 0.1415410\ttotal: 498ms\tremaining: 1.09s\n",
      "314:\tlearn: 0.1413617\ttotal: 500ms\tremaining: 1.09s\n",
      "315:\tlearn: 0.1412269\ttotal: 501ms\tremaining: 1.08s\n",
      "316:\tlearn: 0.1410624\ttotal: 502ms\tremaining: 1.08s\n",
      "317:\tlearn: 0.1408907\ttotal: 503ms\tremaining: 1.08s\n",
      "318:\tlearn: 0.1407746\ttotal: 505ms\tremaining: 1.08s\n",
      "319:\tlearn: 0.1406497\ttotal: 506ms\tremaining: 1.07s\n",
      "320:\tlearn: 0.1405704\ttotal: 507ms\tremaining: 1.07s\n",
      "321:\tlearn: 0.1404212\ttotal: 508ms\tremaining: 1.07s\n",
      "322:\tlearn: 0.1403101\ttotal: 510ms\tremaining: 1.07s\n",
      "323:\tlearn: 0.1401025\ttotal: 511ms\tremaining: 1.06s\n",
      "324:\tlearn: 0.1399610\ttotal: 512ms\tremaining: 1.06s\n",
      "325:\tlearn: 0.1398346\ttotal: 513ms\tremaining: 1.06s\n",
      "326:\tlearn: 0.1397195\ttotal: 514ms\tremaining: 1.06s\n",
      "327:\tlearn: 0.1396685\ttotal: 515ms\tremaining: 1.05s\n",
      "328:\tlearn: 0.1395307\ttotal: 517ms\tremaining: 1.05s\n",
      "329:\tlearn: 0.1393742\ttotal: 518ms\tremaining: 1.05s\n",
      "330:\tlearn: 0.1392391\ttotal: 519ms\tremaining: 1.05s\n",
      "331:\tlearn: 0.1390706\ttotal: 520ms\tremaining: 1.05s\n",
      "332:\tlearn: 0.1389405\ttotal: 522ms\tremaining: 1.04s\n",
      "333:\tlearn: 0.1388259\ttotal: 523ms\tremaining: 1.04s\n",
      "334:\tlearn: 0.1387123\ttotal: 524ms\tremaining: 1.04s\n",
      "335:\tlearn: 0.1385769\ttotal: 526ms\tremaining: 1.04s\n",
      "336:\tlearn: 0.1384265\ttotal: 527ms\tremaining: 1.04s\n",
      "337:\tlearn: 0.1382701\ttotal: 529ms\tremaining: 1.03s\n",
      "338:\tlearn: 0.1380657\ttotal: 530ms\tremaining: 1.03s\n",
      "339:\tlearn: 0.1379659\ttotal: 531ms\tremaining: 1.03s\n",
      "340:\tlearn: 0.1378261\ttotal: 532ms\tremaining: 1.03s\n",
      "341:\tlearn: 0.1377228\ttotal: 534ms\tremaining: 1.03s\n",
      "342:\tlearn: 0.1375485\ttotal: 535ms\tremaining: 1.02s\n",
      "343:\tlearn: 0.1373938\ttotal: 536ms\tremaining: 1.02s\n",
      "344:\tlearn: 0.1372363\ttotal: 538ms\tremaining: 1.02s\n",
      "345:\tlearn: 0.1371014\ttotal: 539ms\tremaining: 1.02s\n",
      "346:\tlearn: 0.1370143\ttotal: 540ms\tremaining: 1.02s\n",
      "347:\tlearn: 0.1369059\ttotal: 542ms\tremaining: 1.01s\n",
      "348:\tlearn: 0.1367391\ttotal: 543ms\tremaining: 1.01s\n",
      "349:\tlearn: 0.1365337\ttotal: 545ms\tremaining: 1.01s\n",
      "350:\tlearn: 0.1364503\ttotal: 547ms\tremaining: 1.01s\n",
      "351:\tlearn: 0.1363064\ttotal: 548ms\tremaining: 1.01s\n",
      "352:\tlearn: 0.1360673\ttotal: 550ms\tremaining: 1.01s\n",
      "353:\tlearn: 0.1358782\ttotal: 551ms\tremaining: 1s\n",
      "354:\tlearn: 0.1356761\ttotal: 552ms\tremaining: 1s\n",
      "355:\tlearn: 0.1355440\ttotal: 553ms\tremaining: 1s\n",
      "356:\tlearn: 0.1353938\ttotal: 554ms\tremaining: 998ms\n",
      "357:\tlearn: 0.1352123\ttotal: 556ms\tremaining: 996ms\n",
      "358:\tlearn: 0.1350410\ttotal: 557ms\tremaining: 994ms\n",
      "359:\tlearn: 0.1349441\ttotal: 558ms\tremaining: 992ms\n",
      "360:\tlearn: 0.1348451\ttotal: 559ms\tremaining: 990ms\n",
      "361:\tlearn: 0.1346917\ttotal: 560ms\tremaining: 988ms\n",
      "362:\tlearn: 0.1345533\ttotal: 562ms\tremaining: 985ms\n",
      "363:\tlearn: 0.1344162\ttotal: 563ms\tremaining: 983ms\n",
      "364:\tlearn: 0.1343070\ttotal: 564ms\tremaining: 981ms\n",
      "365:\tlearn: 0.1341708\ttotal: 565ms\tremaining: 979ms\n",
      "366:\tlearn: 0.1340800\ttotal: 566ms\tremaining: 976ms\n",
      "367:\tlearn: 0.1339714\ttotal: 567ms\tremaining: 974ms\n",
      "368:\tlearn: 0.1338246\ttotal: 569ms\tremaining: 972ms\n",
      "369:\tlearn: 0.1337123\ttotal: 570ms\tremaining: 970ms\n",
      "370:\tlearn: 0.1335235\ttotal: 571ms\tremaining: 968ms\n",
      "371:\tlearn: 0.1333339\ttotal: 573ms\tremaining: 967ms\n",
      "372:\tlearn: 0.1331703\ttotal: 574ms\tremaining: 965ms\n",
      "373:\tlearn: 0.1330612\ttotal: 575ms\tremaining: 962ms\n",
      "374:\tlearn: 0.1329453\ttotal: 577ms\tremaining: 961ms\n",
      "375:\tlearn: 0.1328080\ttotal: 578ms\tremaining: 959ms\n",
      "376:\tlearn: 0.1326980\ttotal: 579ms\tremaining: 957ms\n",
      "377:\tlearn: 0.1325493\ttotal: 581ms\tremaining: 956ms\n",
      "378:\tlearn: 0.1323334\ttotal: 582ms\tremaining: 953ms\n",
      "379:\tlearn: 0.1321452\ttotal: 583ms\tremaining: 952ms\n",
      "380:\tlearn: 0.1319910\ttotal: 584ms\tremaining: 949ms\n",
      "381:\tlearn: 0.1318847\ttotal: 586ms\tremaining: 947ms\n",
      "382:\tlearn: 0.1317758\ttotal: 587ms\tremaining: 945ms\n",
      "383:\tlearn: 0.1316922\ttotal: 588ms\tremaining: 943ms\n",
      "384:\tlearn: 0.1315899\ttotal: 589ms\tremaining: 941ms\n",
      "385:\tlearn: 0.1314383\ttotal: 591ms\tremaining: 940ms\n",
      "386:\tlearn: 0.1312779\ttotal: 592ms\tremaining: 938ms\n",
      "387:\tlearn: 0.1312214\ttotal: 594ms\tremaining: 936ms\n",
      "388:\tlearn: 0.1310561\ttotal: 595ms\tremaining: 934ms\n",
      "389:\tlearn: 0.1309720\ttotal: 596ms\tremaining: 932ms\n",
      "390:\tlearn: 0.1307531\ttotal: 597ms\tremaining: 930ms\n",
      "391:\tlearn: 0.1306253\ttotal: 598ms\tremaining: 928ms\n",
      "392:\tlearn: 0.1304880\ttotal: 599ms\tremaining: 925ms\n",
      "393:\tlearn: 0.1304059\ttotal: 601ms\tremaining: 924ms\n",
      "394:\tlearn: 0.1302683\ttotal: 602ms\tremaining: 922ms\n",
      "395:\tlearn: 0.1301222\ttotal: 603ms\tremaining: 920ms\n",
      "396:\tlearn: 0.1299577\ttotal: 605ms\tremaining: 918ms\n",
      "397:\tlearn: 0.1298314\ttotal: 606ms\tremaining: 916ms\n",
      "398:\tlearn: 0.1296540\ttotal: 609ms\tremaining: 917ms\n",
      "399:\tlearn: 0.1294260\ttotal: 610ms\tremaining: 915ms\n",
      "400:\tlearn: 0.1293100\ttotal: 611ms\tremaining: 913ms\n",
      "401:\tlearn: 0.1292419\ttotal: 612ms\tremaining: 911ms\n",
      "402:\tlearn: 0.1291278\ttotal: 614ms\tremaining: 909ms\n",
      "403:\tlearn: 0.1289429\ttotal: 615ms\tremaining: 907ms\n",
      "404:\tlearn: 0.1288257\ttotal: 616ms\tremaining: 905ms\n",
      "405:\tlearn: 0.1287448\ttotal: 618ms\tremaining: 904ms\n",
      "406:\tlearn: 0.1286134\ttotal: 619ms\tremaining: 902ms\n",
      "407:\tlearn: 0.1284637\ttotal: 620ms\tremaining: 900ms\n",
      "408:\tlearn: 0.1283830\ttotal: 622ms\tremaining: 899ms\n",
      "409:\tlearn: 0.1282633\ttotal: 623ms\tremaining: 897ms\n",
      "410:\tlearn: 0.1281631\ttotal: 624ms\tremaining: 894ms\n",
      "411:\tlearn: 0.1280405\ttotal: 625ms\tremaining: 892ms\n",
      "412:\tlearn: 0.1278989\ttotal: 626ms\tremaining: 890ms\n",
      "413:\tlearn: 0.1277400\ttotal: 627ms\tremaining: 888ms\n",
      "414:\tlearn: 0.1276056\ttotal: 629ms\tremaining: 886ms\n",
      "415:\tlearn: 0.1274736\ttotal: 630ms\tremaining: 884ms\n",
      "416:\tlearn: 0.1273295\ttotal: 631ms\tremaining: 882ms\n",
      "417:\tlearn: 0.1272582\ttotal: 632ms\tremaining: 880ms\n"
     ]
    },
    {
     "name": "stdout",
     "output_type": "stream",
     "text": [
      "418:\tlearn: 0.1271963\ttotal: 634ms\tremaining: 879ms\n",
      "419:\tlearn: 0.1270597\ttotal: 635ms\tremaining: 877ms\n",
      "420:\tlearn: 0.1269881\ttotal: 637ms\tremaining: 877ms\n",
      "421:\tlearn: 0.1268245\ttotal: 639ms\tremaining: 875ms\n",
      "422:\tlearn: 0.1267145\ttotal: 641ms\tremaining: 875ms\n",
      "423:\tlearn: 0.1265471\ttotal: 643ms\tremaining: 874ms\n",
      "424:\tlearn: 0.1264379\ttotal: 655ms\tremaining: 886ms\n",
      "425:\tlearn: 0.1263362\ttotal: 658ms\tremaining: 887ms\n",
      "426:\tlearn: 0.1261844\ttotal: 661ms\tremaining: 887ms\n",
      "427:\tlearn: 0.1259748\ttotal: 663ms\tremaining: 886ms\n",
      "428:\tlearn: 0.1258892\ttotal: 665ms\tremaining: 885ms\n",
      "429:\tlearn: 0.1257209\ttotal: 666ms\tremaining: 883ms\n",
      "430:\tlearn: 0.1256343\ttotal: 669ms\tremaining: 883ms\n",
      "431:\tlearn: 0.1255131\ttotal: 671ms\tremaining: 883ms\n",
      "432:\tlearn: 0.1253853\ttotal: 673ms\tremaining: 881ms\n",
      "433:\tlearn: 0.1253069\ttotal: 674ms\tremaining: 879ms\n",
      "434:\tlearn: 0.1251084\ttotal: 675ms\tremaining: 877ms\n",
      "435:\tlearn: 0.1249393\ttotal: 676ms\tremaining: 875ms\n",
      "436:\tlearn: 0.1248129\ttotal: 679ms\tremaining: 874ms\n",
      "437:\tlearn: 0.1247399\ttotal: 680ms\tremaining: 873ms\n",
      "438:\tlearn: 0.1246293\ttotal: 682ms\tremaining: 872ms\n",
      "439:\tlearn: 0.1245297\ttotal: 684ms\tremaining: 871ms\n",
      "440:\tlearn: 0.1244011\ttotal: 685ms\tremaining: 869ms\n",
      "441:\tlearn: 0.1242662\ttotal: 687ms\tremaining: 867ms\n",
      "442:\tlearn: 0.1241460\ttotal: 689ms\tremaining: 867ms\n",
      "443:\tlearn: 0.1240671\ttotal: 691ms\tremaining: 865ms\n",
      "444:\tlearn: 0.1239080\ttotal: 692ms\tremaining: 863ms\n",
      "445:\tlearn: 0.1238226\ttotal: 695ms\tremaining: 863ms\n",
      "446:\tlearn: 0.1237032\ttotal: 696ms\tremaining: 861ms\n",
      "447:\tlearn: 0.1235493\ttotal: 698ms\tremaining: 860ms\n",
      "448:\tlearn: 0.1234237\ttotal: 699ms\tremaining: 858ms\n",
      "449:\tlearn: 0.1233058\ttotal: 700ms\tremaining: 856ms\n",
      "450:\tlearn: 0.1231512\ttotal: 702ms\tremaining: 854ms\n",
      "451:\tlearn: 0.1230094\ttotal: 704ms\tremaining: 853ms\n",
      "452:\tlearn: 0.1228557\ttotal: 705ms\tremaining: 851ms\n",
      "453:\tlearn: 0.1227147\ttotal: 706ms\tremaining: 849ms\n",
      "454:\tlearn: 0.1225369\ttotal: 707ms\tremaining: 847ms\n",
      "455:\tlearn: 0.1224336\ttotal: 709ms\tremaining: 845ms\n",
      "456:\tlearn: 0.1222863\ttotal: 710ms\tremaining: 844ms\n",
      "457:\tlearn: 0.1221701\ttotal: 712ms\tremaining: 842ms\n",
      "458:\tlearn: 0.1220565\ttotal: 713ms\tremaining: 840ms\n",
      "459:\tlearn: 0.1219148\ttotal: 714ms\tremaining: 838ms\n",
      "460:\tlearn: 0.1218149\ttotal: 715ms\tremaining: 836ms\n",
      "461:\tlearn: 0.1216241\ttotal: 716ms\tremaining: 834ms\n",
      "462:\tlearn: 0.1214853\ttotal: 718ms\tremaining: 832ms\n",
      "463:\tlearn: 0.1214045\ttotal: 719ms\tremaining: 831ms\n",
      "464:\tlearn: 0.1213067\ttotal: 720ms\tremaining: 829ms\n",
      "465:\tlearn: 0.1211691\ttotal: 722ms\tremaining: 827ms\n",
      "466:\tlearn: 0.1210418\ttotal: 723ms\tremaining: 825ms\n",
      "467:\tlearn: 0.1209707\ttotal: 724ms\tremaining: 823ms\n",
      "468:\tlearn: 0.1208987\ttotal: 726ms\tremaining: 822ms\n",
      "469:\tlearn: 0.1208204\ttotal: 727ms\tremaining: 820ms\n",
      "470:\tlearn: 0.1207670\ttotal: 728ms\tremaining: 818ms\n",
      "471:\tlearn: 0.1206703\ttotal: 729ms\tremaining: 816ms\n",
      "472:\tlearn: 0.1205208\ttotal: 730ms\tremaining: 814ms\n",
      "473:\tlearn: 0.1203365\ttotal: 732ms\tremaining: 812ms\n",
      "474:\tlearn: 0.1202899\ttotal: 734ms\tremaining: 811ms\n",
      "475:\tlearn: 0.1202212\ttotal: 735ms\tremaining: 809ms\n",
      "476:\tlearn: 0.1201196\ttotal: 736ms\tremaining: 807ms\n",
      "477:\tlearn: 0.1200283\ttotal: 737ms\tremaining: 805ms\n",
      "478:\tlearn: 0.1199559\ttotal: 738ms\tremaining: 803ms\n",
      "479:\tlearn: 0.1198714\ttotal: 740ms\tremaining: 801ms\n",
      "480:\tlearn: 0.1197625\ttotal: 741ms\tremaining: 799ms\n",
      "481:\tlearn: 0.1196799\ttotal: 742ms\tremaining: 798ms\n",
      "482:\tlearn: 0.1194858\ttotal: 744ms\tremaining: 796ms\n",
      "483:\tlearn: 0.1193828\ttotal: 745ms\tremaining: 795ms\n",
      "484:\tlearn: 0.1193087\ttotal: 747ms\tremaining: 793ms\n",
      "485:\tlearn: 0.1192094\ttotal: 748ms\tremaining: 791ms\n",
      "486:\tlearn: 0.1190862\ttotal: 749ms\tremaining: 789ms\n",
      "487:\tlearn: 0.1189977\ttotal: 750ms\tremaining: 787ms\n",
      "488:\tlearn: 0.1189058\ttotal: 752ms\tremaining: 786ms\n",
      "489:\tlearn: 0.1188235\ttotal: 753ms\tremaining: 784ms\n",
      "490:\tlearn: 0.1187522\ttotal: 754ms\tremaining: 782ms\n",
      "491:\tlearn: 0.1186184\ttotal: 756ms\tremaining: 780ms\n",
      "492:\tlearn: 0.1184622\ttotal: 758ms\tremaining: 779ms\n",
      "493:\tlearn: 0.1183371\ttotal: 759ms\tremaining: 777ms\n",
      "494:\tlearn: 0.1182294\ttotal: 760ms\tremaining: 775ms\n",
      "495:\tlearn: 0.1181685\ttotal: 761ms\tremaining: 773ms\n",
      "496:\tlearn: 0.1180915\ttotal: 763ms\tremaining: 772ms\n",
      "497:\tlearn: 0.1179960\ttotal: 764ms\tremaining: 770ms\n",
      "498:\tlearn: 0.1178333\ttotal: 765ms\tremaining: 768ms\n",
      "499:\tlearn: 0.1177668\ttotal: 767ms\tremaining: 767ms\n",
      "500:\tlearn: 0.1176533\ttotal: 768ms\tremaining: 765ms\n",
      "501:\tlearn: 0.1175509\ttotal: 770ms\tremaining: 763ms\n",
      "502:\tlearn: 0.1174770\ttotal: 771ms\tremaining: 761ms\n",
      "503:\tlearn: 0.1173199\ttotal: 772ms\tremaining: 760ms\n",
      "504:\tlearn: 0.1172206\ttotal: 774ms\tremaining: 758ms\n",
      "505:\tlearn: 0.1171099\ttotal: 775ms\tremaining: 756ms\n",
      "506:\tlearn: 0.1169669\ttotal: 776ms\tremaining: 754ms\n",
      "507:\tlearn: 0.1168252\ttotal: 777ms\tremaining: 753ms\n",
      "508:\tlearn: 0.1166715\ttotal: 778ms\tremaining: 751ms\n",
      "509:\tlearn: 0.1165770\ttotal: 780ms\tremaining: 749ms\n",
      "510:\tlearn: 0.1164774\ttotal: 782ms\tremaining: 748ms\n",
      "511:\tlearn: 0.1163733\ttotal: 783ms\tremaining: 746ms\n",
      "512:\tlearn: 0.1162703\ttotal: 784ms\tremaining: 744ms\n",
      "513:\tlearn: 0.1162172\ttotal: 785ms\tremaining: 742ms\n",
      "514:\tlearn: 0.1161208\ttotal: 786ms\tremaining: 740ms\n",
      "515:\tlearn: 0.1160318\ttotal: 787ms\tremaining: 738ms\n",
      "516:\tlearn: 0.1158690\ttotal: 788ms\tremaining: 737ms\n",
      "517:\tlearn: 0.1157965\ttotal: 790ms\tremaining: 735ms\n",
      "518:\tlearn: 0.1157110\ttotal: 791ms\tremaining: 734ms\n",
      "519:\tlearn: 0.1156186\ttotal: 793ms\tremaining: 732ms\n",
      "520:\tlearn: 0.1155238\ttotal: 794ms\tremaining: 730ms\n",
      "521:\tlearn: 0.1154263\ttotal: 795ms\tremaining: 728ms\n",
      "522:\tlearn: 0.1152864\ttotal: 797ms\tremaining: 727ms\n",
      "523:\tlearn: 0.1152347\ttotal: 798ms\tremaining: 725ms\n",
      "524:\tlearn: 0.1151302\ttotal: 800ms\tremaining: 723ms\n",
      "525:\tlearn: 0.1150472\ttotal: 801ms\tremaining: 722ms\n",
      "526:\tlearn: 0.1149306\ttotal: 802ms\tremaining: 720ms\n",
      "527:\tlearn: 0.1148749\ttotal: 804ms\tremaining: 718ms\n",
      "528:\tlearn: 0.1147683\ttotal: 805ms\tremaining: 717ms\n",
      "529:\tlearn: 0.1147186\ttotal: 807ms\tremaining: 715ms\n",
      "530:\tlearn: 0.1146811\ttotal: 808ms\tremaining: 714ms\n",
      "531:\tlearn: 0.1146284\ttotal: 809ms\tremaining: 712ms\n",
      "532:\tlearn: 0.1145290\ttotal: 810ms\tremaining: 710ms\n",
      "533:\tlearn: 0.1144189\ttotal: 812ms\tremaining: 708ms\n",
      "534:\tlearn: 0.1143219\ttotal: 814ms\tremaining: 707ms\n",
      "535:\tlearn: 0.1141952\ttotal: 815ms\tremaining: 706ms\n",
      "536:\tlearn: 0.1140940\ttotal: 817ms\tremaining: 704ms\n",
      "537:\tlearn: 0.1140124\ttotal: 818ms\tremaining: 702ms\n",
      "538:\tlearn: 0.1139282\ttotal: 819ms\tremaining: 701ms\n",
      "539:\tlearn: 0.1138229\ttotal: 820ms\tremaining: 699ms\n",
      "540:\tlearn: 0.1137726\ttotal: 822ms\tremaining: 697ms\n",
      "541:\tlearn: 0.1137073\ttotal: 826ms\tremaining: 698ms\n",
      "542:\tlearn: 0.1136610\ttotal: 827ms\tremaining: 696ms\n",
      "543:\tlearn: 0.1135433\ttotal: 828ms\tremaining: 694ms\n",
      "544:\tlearn: 0.1134648\ttotal: 830ms\tremaining: 693ms\n",
      "545:\tlearn: 0.1132763\ttotal: 832ms\tremaining: 692ms\n",
      "546:\tlearn: 0.1131876\ttotal: 833ms\tremaining: 690ms\n",
      "547:\tlearn: 0.1130967\ttotal: 835ms\tremaining: 688ms\n",
      "548:\tlearn: 0.1130024\ttotal: 836ms\tremaining: 687ms\n",
      "549:\tlearn: 0.1129336\ttotal: 837ms\tremaining: 685ms\n",
      "550:\tlearn: 0.1127860\ttotal: 839ms\tremaining: 684ms\n",
      "551:\tlearn: 0.1126811\ttotal: 841ms\tremaining: 682ms\n",
      "552:\tlearn: 0.1125715\ttotal: 842ms\tremaining: 681ms\n",
      "553:\tlearn: 0.1124871\ttotal: 843ms\tremaining: 679ms\n",
      "554:\tlearn: 0.1124107\ttotal: 845ms\tremaining: 677ms\n",
      "555:\tlearn: 0.1122825\ttotal: 847ms\tremaining: 676ms\n",
      "556:\tlearn: 0.1121918\ttotal: 848ms\tremaining: 674ms\n",
      "557:\tlearn: 0.1121144\ttotal: 849ms\tremaining: 673ms\n",
      "558:\tlearn: 0.1120321\ttotal: 851ms\tremaining: 671ms\n",
      "559:\tlearn: 0.1119495\ttotal: 852ms\tremaining: 669ms\n",
      "560:\tlearn: 0.1118416\ttotal: 853ms\tremaining: 668ms\n",
      "561:\tlearn: 0.1117366\ttotal: 855ms\tremaining: 667ms\n",
      "562:\tlearn: 0.1116139\ttotal: 857ms\tremaining: 665ms\n",
      "563:\tlearn: 0.1115362\ttotal: 858ms\tremaining: 663ms\n",
      "564:\tlearn: 0.1114305\ttotal: 859ms\tremaining: 661ms\n",
      "565:\tlearn: 0.1112837\ttotal: 860ms\tremaining: 660ms\n",
      "566:\tlearn: 0.1112375\ttotal: 861ms\tremaining: 658ms\n",
      "567:\tlearn: 0.1110791\ttotal: 863ms\tremaining: 656ms\n",
      "568:\tlearn: 0.1109496\ttotal: 865ms\tremaining: 655ms\n",
      "569:\tlearn: 0.1108136\ttotal: 866ms\tremaining: 653ms\n",
      "570:\tlearn: 0.1107107\ttotal: 867ms\tremaining: 651ms\n",
      "571:\tlearn: 0.1105606\ttotal: 868ms\tremaining: 650ms\n",
      "572:\tlearn: 0.1104892\ttotal: 870ms\tremaining: 648ms\n",
      "573:\tlearn: 0.1104168\ttotal: 872ms\tremaining: 647ms\n",
      "574:\tlearn: 0.1103743\ttotal: 873ms\tremaining: 645ms\n",
      "575:\tlearn: 0.1102821\ttotal: 874ms\tremaining: 644ms\n",
      "576:\tlearn: 0.1101644\ttotal: 876ms\tremaining: 642ms\n",
      "577:\tlearn: 0.1100635\ttotal: 877ms\tremaining: 640ms\n",
      "578:\tlearn: 0.1100086\ttotal: 878ms\tremaining: 639ms\n",
      "579:\tlearn: 0.1099404\ttotal: 880ms\tremaining: 637ms\n",
      "580:\tlearn: 0.1098899\ttotal: 881ms\tremaining: 635ms\n",
      "581:\tlearn: 0.1097105\ttotal: 882ms\tremaining: 634ms\n",
      "582:\tlearn: 0.1095717\ttotal: 884ms\tremaining: 632ms\n",
      "583:\tlearn: 0.1095385\ttotal: 885ms\tremaining: 630ms\n",
      "584:\tlearn: 0.1094215\ttotal: 886ms\tremaining: 629ms\n",
      "585:\tlearn: 0.1093316\ttotal: 887ms\tremaining: 627ms\n",
      "586:\tlearn: 0.1091675\ttotal: 888ms\tremaining: 625ms\n",
      "587:\tlearn: 0.1090762\ttotal: 890ms\tremaining: 623ms\n",
      "588:\tlearn: 0.1089350\ttotal: 891ms\tremaining: 622ms\n",
      "589:\tlearn: 0.1088119\ttotal: 892ms\tremaining: 620ms\n",
      "590:\tlearn: 0.1087317\ttotal: 893ms\tremaining: 618ms\n",
      "591:\tlearn: 0.1086176\ttotal: 894ms\tremaining: 616ms\n",
      "592:\tlearn: 0.1085270\ttotal: 896ms\tremaining: 615ms\n",
      "593:\tlearn: 0.1084728\ttotal: 897ms\tremaining: 613ms\n",
      "594:\tlearn: 0.1083813\ttotal: 899ms\tremaining: 612ms\n",
      "595:\tlearn: 0.1082451\ttotal: 900ms\tremaining: 610ms\n",
      "596:\tlearn: 0.1080629\ttotal: 901ms\tremaining: 608ms\n",
      "597:\tlearn: 0.1079642\ttotal: 903ms\tremaining: 607ms\n",
      "598:\tlearn: 0.1079123\ttotal: 904ms\tremaining: 605ms\n",
      "599:\tlearn: 0.1078175\ttotal: 906ms\tremaining: 604ms\n",
      "600:\tlearn: 0.1077254\ttotal: 907ms\tremaining: 602ms\n",
      "601:\tlearn: 0.1076119\ttotal: 908ms\tremaining: 601ms\n",
      "602:\tlearn: 0.1074512\ttotal: 911ms\tremaining: 600ms\n",
      "603:\tlearn: 0.1073216\ttotal: 912ms\tremaining: 598ms\n",
      "604:\tlearn: 0.1071669\ttotal: 914ms\tremaining: 597ms\n",
      "605:\tlearn: 0.1070500\ttotal: 915ms\tremaining: 595ms\n",
      "606:\tlearn: 0.1069439\ttotal: 916ms\tremaining: 593ms\n",
      "607:\tlearn: 0.1068398\ttotal: 917ms\tremaining: 591ms\n",
      "608:\tlearn: 0.1067290\ttotal: 918ms\tremaining: 590ms\n",
      "609:\tlearn: 0.1066427\ttotal: 920ms\tremaining: 588ms\n",
      "610:\tlearn: 0.1065502\ttotal: 921ms\tremaining: 586ms\n",
      "611:\tlearn: 0.1064472\ttotal: 922ms\tremaining: 585ms\n",
      "612:\tlearn: 0.1063127\ttotal: 924ms\tremaining: 583ms\n",
      "613:\tlearn: 0.1062154\ttotal: 925ms\tremaining: 582ms\n",
      "614:\tlearn: 0.1061292\ttotal: 927ms\tremaining: 580ms\n",
      "615:\tlearn: 0.1060062\ttotal: 928ms\tremaining: 579ms\n",
      "616:\tlearn: 0.1059389\ttotal: 930ms\tremaining: 577ms\n",
      "617:\tlearn: 0.1057747\ttotal: 931ms\tremaining: 575ms\n",
      "618:\tlearn: 0.1056461\ttotal: 932ms\tremaining: 574ms\n",
      "619:\tlearn: 0.1055332\ttotal: 934ms\tremaining: 572ms\n",
      "620:\tlearn: 0.1054995\ttotal: 936ms\tremaining: 571ms\n",
      "621:\tlearn: 0.1053006\ttotal: 937ms\tremaining: 569ms\n",
      "622:\tlearn: 0.1052117\ttotal: 938ms\tremaining: 568ms\n",
      "623:\tlearn: 0.1051254\ttotal: 940ms\tremaining: 566ms\n",
      "624:\tlearn: 0.1049983\ttotal: 941ms\tremaining: 565ms\n",
      "625:\tlearn: 0.1048757\ttotal: 943ms\tremaining: 563ms\n",
      "626:\tlearn: 0.1047930\ttotal: 944ms\tremaining: 562ms\n",
      "627:\tlearn: 0.1046814\ttotal: 945ms\tremaining: 560ms\n",
      "628:\tlearn: 0.1046160\ttotal: 947ms\tremaining: 558ms\n",
      "629:\tlearn: 0.1045503\ttotal: 948ms\tremaining: 557ms\n",
      "630:\tlearn: 0.1044269\ttotal: 949ms\tremaining: 555ms\n",
      "631:\tlearn: 0.1043858\ttotal: 950ms\tremaining: 553ms\n",
      "632:\tlearn: 0.1043350\ttotal: 951ms\tremaining: 552ms\n",
      "633:\tlearn: 0.1042598\ttotal: 953ms\tremaining: 550ms\n",
      "634:\tlearn: 0.1041611\ttotal: 954ms\tremaining: 548ms\n",
      "635:\tlearn: 0.1041065\ttotal: 955ms\tremaining: 547ms\n",
      "636:\tlearn: 0.1040119\ttotal: 956ms\tremaining: 545ms\n",
      "637:\tlearn: 0.1039205\ttotal: 958ms\tremaining: 543ms\n",
      "638:\tlearn: 0.1038614\ttotal: 959ms\tremaining: 542ms\n",
      "639:\tlearn: 0.1036899\ttotal: 961ms\tremaining: 540ms\n"
     ]
    },
    {
     "name": "stdout",
     "output_type": "stream",
     "text": [
      "640:\tlearn: 0.1035618\ttotal: 962ms\tremaining: 539ms\n",
      "641:\tlearn: 0.1034477\ttotal: 963ms\tremaining: 537ms\n",
      "642:\tlearn: 0.1034095\ttotal: 964ms\tremaining: 535ms\n",
      "643:\tlearn: 0.1033401\ttotal: 965ms\tremaining: 534ms\n",
      "644:\tlearn: 0.1032429\ttotal: 967ms\tremaining: 532ms\n",
      "645:\tlearn: 0.1031616\ttotal: 968ms\tremaining: 531ms\n",
      "646:\tlearn: 0.1030247\ttotal: 969ms\tremaining: 529ms\n",
      "647:\tlearn: 0.1029368\ttotal: 971ms\tremaining: 527ms\n",
      "648:\tlearn: 0.1028969\ttotal: 972ms\tremaining: 526ms\n",
      "649:\tlearn: 0.1028222\ttotal: 973ms\tremaining: 524ms\n",
      "650:\tlearn: 0.1026901\ttotal: 975ms\tremaining: 522ms\n",
      "651:\tlearn: 0.1026229\ttotal: 976ms\tremaining: 521ms\n",
      "652:\tlearn: 0.1025539\ttotal: 977ms\tremaining: 519ms\n",
      "653:\tlearn: 0.1024640\ttotal: 978ms\tremaining: 518ms\n",
      "654:\tlearn: 0.1023552\ttotal: 980ms\tremaining: 516ms\n",
      "655:\tlearn: 0.1022937\ttotal: 981ms\tremaining: 514ms\n",
      "656:\tlearn: 0.1021647\ttotal: 982ms\tremaining: 513ms\n",
      "657:\tlearn: 0.1020891\ttotal: 983ms\tremaining: 511ms\n",
      "658:\tlearn: 0.1019699\ttotal: 984ms\tremaining: 509ms\n",
      "659:\tlearn: 0.1018978\ttotal: 986ms\tremaining: 508ms\n",
      "660:\tlearn: 0.1018275\ttotal: 988ms\tremaining: 506ms\n",
      "661:\tlearn: 0.1017372\ttotal: 990ms\tremaining: 505ms\n",
      "662:\tlearn: 0.1016886\ttotal: 991ms\tremaining: 504ms\n",
      "663:\tlearn: 0.1015749\ttotal: 993ms\tremaining: 502ms\n",
      "664:\tlearn: 0.1014923\ttotal: 994ms\tremaining: 501ms\n",
      "665:\tlearn: 0.1013552\ttotal: 995ms\tremaining: 499ms\n",
      "666:\tlearn: 0.1012775\ttotal: 996ms\tremaining: 497ms\n",
      "667:\tlearn: 0.1011388\ttotal: 998ms\tremaining: 496ms\n",
      "668:\tlearn: 0.1010387\ttotal: 999ms\tremaining: 494ms\n",
      "669:\tlearn: 0.1009813\ttotal: 1s\tremaining: 493ms\n",
      "670:\tlearn: 0.1009166\ttotal: 1s\tremaining: 492ms\n",
      "671:\tlearn: 0.1008273\ttotal: 1.01s\tremaining: 491ms\n",
      "672:\tlearn: 0.1007477\ttotal: 1.01s\tremaining: 490ms\n",
      "673:\tlearn: 0.1006574\ttotal: 1.01s\tremaining: 488ms\n",
      "674:\tlearn: 0.1004917\ttotal: 1.01s\tremaining: 487ms\n",
      "675:\tlearn: 0.1004380\ttotal: 1.01s\tremaining: 485ms\n",
      "676:\tlearn: 0.1003163\ttotal: 1.01s\tremaining: 483ms\n",
      "677:\tlearn: 0.1002207\ttotal: 1.01s\tremaining: 482ms\n",
      "678:\tlearn: 0.1001415\ttotal: 1.01s\tremaining: 480ms\n",
      "679:\tlearn: 0.1000878\ttotal: 1.02s\tremaining: 479ms\n",
      "680:\tlearn: 0.0999966\ttotal: 1.02s\tremaining: 477ms\n",
      "681:\tlearn: 0.0998829\ttotal: 1.02s\tremaining: 475ms\n",
      "682:\tlearn: 0.0997997\ttotal: 1.02s\tremaining: 474ms\n",
      "683:\tlearn: 0.0997322\ttotal: 1.02s\tremaining: 472ms\n",
      "684:\tlearn: 0.0995965\ttotal: 1.02s\tremaining: 471ms\n",
      "685:\tlearn: 0.0995307\ttotal: 1.02s\tremaining: 469ms\n",
      "686:\tlearn: 0.0994372\ttotal: 1.03s\tremaining: 468ms\n",
      "687:\tlearn: 0.0993480\ttotal: 1.03s\tremaining: 466ms\n",
      "688:\tlearn: 0.0992787\ttotal: 1.03s\tremaining: 465ms\n",
      "689:\tlearn: 0.0992055\ttotal: 1.03s\tremaining: 464ms\n",
      "690:\tlearn: 0.0990728\ttotal: 1.03s\tremaining: 462ms\n",
      "691:\tlearn: 0.0990088\ttotal: 1.03s\tremaining: 461ms\n",
      "692:\tlearn: 0.0988885\ttotal: 1.04s\tremaining: 460ms\n",
      "693:\tlearn: 0.0988168\ttotal: 1.04s\tremaining: 459ms\n",
      "694:\tlearn: 0.0987443\ttotal: 1.04s\tremaining: 457ms\n",
      "695:\tlearn: 0.0986834\ttotal: 1.04s\tremaining: 455ms\n",
      "696:\tlearn: 0.0985208\ttotal: 1.04s\tremaining: 454ms\n",
      "697:\tlearn: 0.0984365\ttotal: 1.05s\tremaining: 453ms\n",
      "698:\tlearn: 0.0983132\ttotal: 1.05s\tremaining: 451ms\n",
      "699:\tlearn: 0.0981896\ttotal: 1.05s\tremaining: 450ms\n",
      "700:\tlearn: 0.0980716\ttotal: 1.05s\tremaining: 448ms\n",
      "701:\tlearn: 0.0979592\ttotal: 1.05s\tremaining: 447ms\n",
      "702:\tlearn: 0.0979071\ttotal: 1.06s\tremaining: 447ms\n",
      "703:\tlearn: 0.0976866\ttotal: 1.06s\tremaining: 446ms\n",
      "704:\tlearn: 0.0976484\ttotal: 1.06s\tremaining: 444ms\n",
      "705:\tlearn: 0.0975772\ttotal: 1.06s\tremaining: 443ms\n",
      "706:\tlearn: 0.0974893\ttotal: 1.06s\tremaining: 441ms\n",
      "707:\tlearn: 0.0973814\ttotal: 1.06s\tremaining: 440ms\n",
      "708:\tlearn: 0.0973384\ttotal: 1.07s\tremaining: 438ms\n",
      "709:\tlearn: 0.0972085\ttotal: 1.07s\tremaining: 436ms\n",
      "710:\tlearn: 0.0971653\ttotal: 1.07s\tremaining: 435ms\n",
      "711:\tlearn: 0.0971204\ttotal: 1.07s\tremaining: 433ms\n",
      "712:\tlearn: 0.0969782\ttotal: 1.07s\tremaining: 432ms\n",
      "713:\tlearn: 0.0969035\ttotal: 1.07s\tremaining: 430ms\n",
      "714:\tlearn: 0.0968151\ttotal: 1.07s\tremaining: 428ms\n",
      "715:\tlearn: 0.0966286\ttotal: 1.08s\tremaining: 427ms\n",
      "716:\tlearn: 0.0965555\ttotal: 1.08s\tremaining: 425ms\n",
      "717:\tlearn: 0.0964928\ttotal: 1.08s\tremaining: 424ms\n",
      "718:\tlearn: 0.0963789\ttotal: 1.08s\tremaining: 422ms\n",
      "719:\tlearn: 0.0962921\ttotal: 1.08s\tremaining: 421ms\n",
      "720:\tlearn: 0.0962442\ttotal: 1.08s\tremaining: 419ms\n",
      "721:\tlearn: 0.0961673\ttotal: 1.08s\tremaining: 417ms\n",
      "722:\tlearn: 0.0960791\ttotal: 1.08s\tremaining: 416ms\n",
      "723:\tlearn: 0.0959616\ttotal: 1.09s\tremaining: 414ms\n",
      "724:\tlearn: 0.0958780\ttotal: 1.09s\tremaining: 413ms\n",
      "725:\tlearn: 0.0958230\ttotal: 1.09s\tremaining: 411ms\n",
      "726:\tlearn: 0.0957497\ttotal: 1.09s\tremaining: 410ms\n",
      "727:\tlearn: 0.0956589\ttotal: 1.09s\tremaining: 408ms\n",
      "728:\tlearn: 0.0955917\ttotal: 1.09s\tremaining: 406ms\n",
      "729:\tlearn: 0.0955530\ttotal: 1.09s\tremaining: 405ms\n",
      "730:\tlearn: 0.0954789\ttotal: 1.1s\tremaining: 403ms\n",
      "731:\tlearn: 0.0953869\ttotal: 1.1s\tremaining: 402ms\n",
      "732:\tlearn: 0.0952865\ttotal: 1.1s\tremaining: 400ms\n",
      "733:\tlearn: 0.0951565\ttotal: 1.1s\tremaining: 399ms\n",
      "734:\tlearn: 0.0950909\ttotal: 1.1s\tremaining: 397ms\n",
      "735:\tlearn: 0.0950420\ttotal: 1.1s\tremaining: 396ms\n",
      "736:\tlearn: 0.0949658\ttotal: 1.1s\tremaining: 394ms\n",
      "737:\tlearn: 0.0949068\ttotal: 1.11s\tremaining: 393ms\n",
      "738:\tlearn: 0.0947752\ttotal: 1.11s\tremaining: 391ms\n",
      "739:\tlearn: 0.0946997\ttotal: 1.11s\tremaining: 389ms\n",
      "740:\tlearn: 0.0945784\ttotal: 1.11s\tremaining: 388ms\n",
      "741:\tlearn: 0.0944793\ttotal: 1.11s\tremaining: 386ms\n",
      "742:\tlearn: 0.0944023\ttotal: 1.11s\tremaining: 385ms\n",
      "743:\tlearn: 0.0943104\ttotal: 1.11s\tremaining: 383ms\n",
      "744:\tlearn: 0.0941546\ttotal: 1.11s\tremaining: 382ms\n",
      "745:\tlearn: 0.0940814\ttotal: 1.12s\tremaining: 380ms\n",
      "746:\tlearn: 0.0939670\ttotal: 1.12s\tremaining: 379ms\n",
      "747:\tlearn: 0.0939102\ttotal: 1.12s\tremaining: 378ms\n",
      "748:\tlearn: 0.0937976\ttotal: 1.12s\tremaining: 376ms\n",
      "749:\tlearn: 0.0937507\ttotal: 1.12s\tremaining: 374ms\n",
      "750:\tlearn: 0.0936949\ttotal: 1.12s\tremaining: 373ms\n",
      "751:\tlearn: 0.0935888\ttotal: 1.13s\tremaining: 371ms\n",
      "752:\tlearn: 0.0935378\ttotal: 1.13s\tremaining: 370ms\n",
      "753:\tlearn: 0.0934319\ttotal: 1.13s\tremaining: 368ms\n",
      "754:\tlearn: 0.0933248\ttotal: 1.13s\tremaining: 367ms\n",
      "755:\tlearn: 0.0932040\ttotal: 1.13s\tremaining: 365ms\n",
      "756:\tlearn: 0.0931300\ttotal: 1.13s\tremaining: 364ms\n",
      "757:\tlearn: 0.0930411\ttotal: 1.14s\tremaining: 362ms\n",
      "758:\tlearn: 0.0930005\ttotal: 1.14s\tremaining: 361ms\n",
      "759:\tlearn: 0.0929113\ttotal: 1.14s\tremaining: 359ms\n",
      "760:\tlearn: 0.0928033\ttotal: 1.14s\tremaining: 358ms\n",
      "761:\tlearn: 0.0926831\ttotal: 1.14s\tremaining: 356ms\n",
      "762:\tlearn: 0.0926474\ttotal: 1.14s\tremaining: 355ms\n",
      "763:\tlearn: 0.0925423\ttotal: 1.14s\tremaining: 353ms\n",
      "764:\tlearn: 0.0925059\ttotal: 1.14s\tremaining: 352ms\n",
      "765:\tlearn: 0.0924528\ttotal: 1.15s\tremaining: 350ms\n",
      "766:\tlearn: 0.0923211\ttotal: 1.15s\tremaining: 349ms\n",
      "767:\tlearn: 0.0922194\ttotal: 1.15s\tremaining: 347ms\n",
      "768:\tlearn: 0.0921033\ttotal: 1.15s\tremaining: 346ms\n",
      "769:\tlearn: 0.0920046\ttotal: 1.15s\tremaining: 345ms\n",
      "770:\tlearn: 0.0919479\ttotal: 1.16s\tremaining: 343ms\n",
      "771:\tlearn: 0.0918666\ttotal: 1.16s\tremaining: 342ms\n",
      "772:\tlearn: 0.0918328\ttotal: 1.16s\tremaining: 340ms\n",
      "773:\tlearn: 0.0917375\ttotal: 1.16s\tremaining: 339ms\n",
      "774:\tlearn: 0.0916294\ttotal: 1.16s\tremaining: 337ms\n",
      "775:\tlearn: 0.0915416\ttotal: 1.16s\tremaining: 336ms\n",
      "776:\tlearn: 0.0915140\ttotal: 1.16s\tremaining: 334ms\n",
      "777:\tlearn: 0.0913988\ttotal: 1.17s\tremaining: 333ms\n",
      "778:\tlearn: 0.0913292\ttotal: 1.17s\tremaining: 332ms\n",
      "779:\tlearn: 0.0912255\ttotal: 1.17s\tremaining: 330ms\n",
      "780:\tlearn: 0.0911598\ttotal: 1.17s\tremaining: 329ms\n",
      "781:\tlearn: 0.0910683\ttotal: 1.17s\tremaining: 327ms\n",
      "782:\tlearn: 0.0909943\ttotal: 1.17s\tremaining: 326ms\n",
      "783:\tlearn: 0.0908972\ttotal: 1.18s\tremaining: 324ms\n",
      "784:\tlearn: 0.0908286\ttotal: 1.18s\tremaining: 322ms\n",
      "785:\tlearn: 0.0907869\ttotal: 1.18s\tremaining: 321ms\n",
      "786:\tlearn: 0.0906931\ttotal: 1.18s\tremaining: 319ms\n",
      "787:\tlearn: 0.0906514\ttotal: 1.18s\tremaining: 318ms\n",
      "788:\tlearn: 0.0904900\ttotal: 1.18s\tremaining: 317ms\n",
      "789:\tlearn: 0.0903682\ttotal: 1.19s\tremaining: 315ms\n",
      "790:\tlearn: 0.0902526\ttotal: 1.19s\tremaining: 314ms\n",
      "791:\tlearn: 0.0901945\ttotal: 1.19s\tremaining: 312ms\n",
      "792:\tlearn: 0.0901276\ttotal: 1.19s\tremaining: 311ms\n",
      "793:\tlearn: 0.0900768\ttotal: 1.19s\tremaining: 309ms\n",
      "794:\tlearn: 0.0899876\ttotal: 1.19s\tremaining: 307ms\n",
      "795:\tlearn: 0.0898343\ttotal: 1.19s\tremaining: 306ms\n",
      "796:\tlearn: 0.0897856\ttotal: 1.19s\tremaining: 304ms\n",
      "797:\tlearn: 0.0897023\ttotal: 1.2s\tremaining: 303ms\n",
      "798:\tlearn: 0.0896439\ttotal: 1.2s\tremaining: 301ms\n",
      "799:\tlearn: 0.0895556\ttotal: 1.2s\tremaining: 300ms\n",
      "800:\tlearn: 0.0894670\ttotal: 1.2s\tremaining: 298ms\n",
      "801:\tlearn: 0.0894273\ttotal: 1.2s\tremaining: 297ms\n",
      "802:\tlearn: 0.0893928\ttotal: 1.2s\tremaining: 295ms\n",
      "803:\tlearn: 0.0892963\ttotal: 1.21s\tremaining: 294ms\n",
      "804:\tlearn: 0.0892037\ttotal: 1.21s\tremaining: 292ms\n",
      "805:\tlearn: 0.0891440\ttotal: 1.21s\tremaining: 291ms\n",
      "806:\tlearn: 0.0890841\ttotal: 1.21s\tremaining: 289ms\n"
     ]
    },
    {
     "name": "stdout",
     "output_type": "stream",
     "text": [
      "807:\tlearn: 0.0890072\ttotal: 1.21s\tremaining: 288ms\n",
      "808:\tlearn: 0.0888638\ttotal: 1.21s\tremaining: 287ms\n",
      "809:\tlearn: 0.0887735\ttotal: 1.22s\tremaining: 285ms\n",
      "810:\tlearn: 0.0886805\ttotal: 1.22s\tremaining: 284ms\n",
      "811:\tlearn: 0.0885888\ttotal: 1.22s\tremaining: 282ms\n",
      "812:\tlearn: 0.0885059\ttotal: 1.22s\tremaining: 281ms\n",
      "813:\tlearn: 0.0884145\ttotal: 1.22s\tremaining: 279ms\n",
      "814:\tlearn: 0.0883522\ttotal: 1.22s\tremaining: 278ms\n",
      "815:\tlearn: 0.0881872\ttotal: 1.22s\tremaining: 276ms\n",
      "816:\tlearn: 0.0880708\ttotal: 1.23s\tremaining: 275ms\n",
      "817:\tlearn: 0.0880335\ttotal: 1.23s\tremaining: 273ms\n",
      "818:\tlearn: 0.0879450\ttotal: 1.23s\tremaining: 271ms\n",
      "819:\tlearn: 0.0878607\ttotal: 1.23s\tremaining: 270ms\n",
      "820:\tlearn: 0.0878030\ttotal: 1.23s\tremaining: 269ms\n",
      "821:\tlearn: 0.0877034\ttotal: 1.23s\tremaining: 267ms\n",
      "822:\tlearn: 0.0876197\ttotal: 1.23s\tremaining: 265ms\n",
      "823:\tlearn: 0.0875886\ttotal: 1.24s\tremaining: 264ms\n",
      "824:\tlearn: 0.0875624\ttotal: 1.24s\tremaining: 262ms\n",
      "825:\tlearn: 0.0874843\ttotal: 1.24s\tremaining: 261ms\n",
      "826:\tlearn: 0.0874028\ttotal: 1.24s\tremaining: 260ms\n",
      "827:\tlearn: 0.0872516\ttotal: 1.24s\tremaining: 258ms\n",
      "828:\tlearn: 0.0871876\ttotal: 1.24s\tremaining: 257ms\n",
      "829:\tlearn: 0.0871254\ttotal: 1.25s\tremaining: 255ms\n",
      "830:\tlearn: 0.0870678\ttotal: 1.25s\tremaining: 254ms\n",
      "831:\tlearn: 0.0870088\ttotal: 1.25s\tremaining: 252ms\n",
      "832:\tlearn: 0.0869765\ttotal: 1.25s\tremaining: 251ms\n",
      "833:\tlearn: 0.0869210\ttotal: 1.25s\tremaining: 249ms\n",
      "834:\tlearn: 0.0868388\ttotal: 1.25s\tremaining: 247ms\n",
      "835:\tlearn: 0.0868027\ttotal: 1.25s\tremaining: 246ms\n",
      "836:\tlearn: 0.0867347\ttotal: 1.25s\tremaining: 244ms\n",
      "837:\tlearn: 0.0866898\ttotal: 1.26s\tremaining: 243ms\n",
      "838:\tlearn: 0.0865149\ttotal: 1.26s\tremaining: 241ms\n",
      "839:\tlearn: 0.0864781\ttotal: 1.26s\tremaining: 240ms\n",
      "840:\tlearn: 0.0863314\ttotal: 1.26s\tremaining: 238ms\n",
      "841:\tlearn: 0.0862555\ttotal: 1.26s\tremaining: 237ms\n",
      "842:\tlearn: 0.0861914\ttotal: 1.26s\tremaining: 235ms\n",
      "843:\tlearn: 0.0860757\ttotal: 1.26s\tremaining: 234ms\n",
      "844:\tlearn: 0.0859809\ttotal: 1.26s\tremaining: 232ms\n",
      "845:\tlearn: 0.0859193\ttotal: 1.27s\tremaining: 230ms\n",
      "846:\tlearn: 0.0858617\ttotal: 1.27s\tremaining: 229ms\n",
      "847:\tlearn: 0.0857681\ttotal: 1.27s\tremaining: 227ms\n",
      "848:\tlearn: 0.0856615\ttotal: 1.27s\tremaining: 226ms\n",
      "849:\tlearn: 0.0855739\ttotal: 1.27s\tremaining: 225ms\n",
      "850:\tlearn: 0.0854338\ttotal: 1.27s\tremaining: 223ms\n",
      "851:\tlearn: 0.0853556\ttotal: 1.28s\tremaining: 222ms\n",
      "852:\tlearn: 0.0852703\ttotal: 1.28s\tremaining: 221ms\n",
      "853:\tlearn: 0.0851839\ttotal: 1.28s\tremaining: 219ms\n",
      "854:\tlearn: 0.0850727\ttotal: 1.28s\tremaining: 218ms\n",
      "855:\tlearn: 0.0850122\ttotal: 1.28s\tremaining: 216ms\n",
      "856:\tlearn: 0.0849517\ttotal: 1.29s\tremaining: 215ms\n",
      "857:\tlearn: 0.0848609\ttotal: 1.29s\tremaining: 213ms\n",
      "858:\tlearn: 0.0847820\ttotal: 1.29s\tremaining: 212ms\n",
      "859:\tlearn: 0.0846809\ttotal: 1.3s\tremaining: 211ms\n",
      "860:\tlearn: 0.0845546\ttotal: 1.3s\tremaining: 210ms\n",
      "861:\tlearn: 0.0845200\ttotal: 1.3s\tremaining: 208ms\n",
      "862:\tlearn: 0.0844715\ttotal: 1.3s\tremaining: 207ms\n",
      "863:\tlearn: 0.0844302\ttotal: 1.3s\tremaining: 205ms\n",
      "864:\tlearn: 0.0843487\ttotal: 1.3s\tremaining: 204ms\n",
      "865:\tlearn: 0.0842641\ttotal: 1.31s\tremaining: 202ms\n",
      "866:\tlearn: 0.0842304\ttotal: 1.31s\tremaining: 201ms\n",
      "867:\tlearn: 0.0841742\ttotal: 1.31s\tremaining: 199ms\n",
      "868:\tlearn: 0.0841096\ttotal: 1.31s\tremaining: 198ms\n",
      "869:\tlearn: 0.0840526\ttotal: 1.31s\tremaining: 196ms\n",
      "870:\tlearn: 0.0840038\ttotal: 1.31s\tremaining: 195ms\n",
      "871:\tlearn: 0.0838653\ttotal: 1.32s\tremaining: 193ms\n",
      "872:\tlearn: 0.0838154\ttotal: 1.32s\tremaining: 192ms\n",
      "873:\tlearn: 0.0837365\ttotal: 1.32s\tremaining: 190ms\n",
      "874:\tlearn: 0.0836792\ttotal: 1.32s\tremaining: 189ms\n",
      "875:\tlearn: 0.0836280\ttotal: 1.32s\tremaining: 187ms\n",
      "876:\tlearn: 0.0835812\ttotal: 1.32s\tremaining: 186ms\n",
      "877:\tlearn: 0.0834781\ttotal: 1.33s\tremaining: 184ms\n",
      "878:\tlearn: 0.0834400\ttotal: 1.33s\tremaining: 183ms\n",
      "879:\tlearn: 0.0833378\ttotal: 1.33s\tremaining: 181ms\n",
      "880:\tlearn: 0.0832350\ttotal: 1.33s\tremaining: 180ms\n",
      "881:\tlearn: 0.0832114\ttotal: 1.33s\tremaining: 178ms\n",
      "882:\tlearn: 0.0831765\ttotal: 1.33s\tremaining: 177ms\n",
      "883:\tlearn: 0.0830989\ttotal: 1.33s\tremaining: 175ms\n",
      "884:\tlearn: 0.0830488\ttotal: 1.34s\tremaining: 174ms\n",
      "885:\tlearn: 0.0829972\ttotal: 1.34s\tremaining: 172ms\n",
      "886:\tlearn: 0.0829496\ttotal: 1.34s\tremaining: 171ms\n",
      "887:\tlearn: 0.0828735\ttotal: 1.34s\tremaining: 169ms\n",
      "888:\tlearn: 0.0828392\ttotal: 1.34s\tremaining: 167ms\n",
      "889:\tlearn: 0.0827026\ttotal: 1.34s\tremaining: 166ms\n",
      "890:\tlearn: 0.0826275\ttotal: 1.34s\tremaining: 164ms\n",
      "891:\tlearn: 0.0825575\ttotal: 1.34s\tremaining: 163ms\n",
      "892:\tlearn: 0.0824627\ttotal: 1.35s\tremaining: 161ms\n",
      "893:\tlearn: 0.0823778\ttotal: 1.35s\tremaining: 160ms\n",
      "894:\tlearn: 0.0823206\ttotal: 1.35s\tremaining: 159ms\n",
      "895:\tlearn: 0.0822506\ttotal: 1.35s\tremaining: 157ms\n",
      "896:\tlearn: 0.0821276\ttotal: 1.35s\tremaining: 156ms\n",
      "897:\tlearn: 0.0820430\ttotal: 1.36s\tremaining: 154ms\n",
      "898:\tlearn: 0.0819680\ttotal: 1.36s\tremaining: 153ms\n",
      "899:\tlearn: 0.0818974\ttotal: 1.36s\tremaining: 151ms\n",
      "900:\tlearn: 0.0817514\ttotal: 1.36s\tremaining: 150ms\n",
      "901:\tlearn: 0.0816352\ttotal: 1.36s\tremaining: 148ms\n",
      "902:\tlearn: 0.0815390\ttotal: 1.36s\tremaining: 147ms\n",
      "903:\tlearn: 0.0814514\ttotal: 1.36s\tremaining: 145ms\n",
      "904:\tlearn: 0.0813798\ttotal: 1.37s\tremaining: 143ms\n",
      "905:\tlearn: 0.0813466\ttotal: 1.37s\tremaining: 142ms\n",
      "906:\tlearn: 0.0812787\ttotal: 1.37s\tremaining: 140ms\n",
      "907:\tlearn: 0.0812051\ttotal: 1.37s\tremaining: 139ms\n",
      "908:\tlearn: 0.0811643\ttotal: 1.37s\tremaining: 137ms\n",
      "909:\tlearn: 0.0811183\ttotal: 1.37s\tremaining: 136ms\n",
      "910:\tlearn: 0.0810485\ttotal: 1.37s\tremaining: 134ms\n",
      "911:\tlearn: 0.0809614\ttotal: 1.37s\tremaining: 133ms\n",
      "912:\tlearn: 0.0809056\ttotal: 1.38s\tremaining: 131ms\n",
      "913:\tlearn: 0.0807367\ttotal: 1.38s\tremaining: 130ms\n",
      "914:\tlearn: 0.0806723\ttotal: 1.38s\tremaining: 128ms\n",
      "915:\tlearn: 0.0805966\ttotal: 1.38s\tremaining: 127ms\n",
      "916:\tlearn: 0.0804332\ttotal: 1.38s\tremaining: 125ms\n",
      "917:\tlearn: 0.0803506\ttotal: 1.38s\tremaining: 123ms\n",
      "918:\tlearn: 0.0802539\ttotal: 1.38s\tremaining: 122ms\n",
      "919:\tlearn: 0.0801780\ttotal: 1.39s\tremaining: 120ms\n",
      "920:\tlearn: 0.0800379\ttotal: 1.39s\tremaining: 119ms\n",
      "921:\tlearn: 0.0799741\ttotal: 1.39s\tremaining: 117ms\n",
      "922:\tlearn: 0.0799050\ttotal: 1.39s\tremaining: 116ms\n",
      "923:\tlearn: 0.0798676\ttotal: 1.39s\tremaining: 114ms\n",
      "924:\tlearn: 0.0797896\ttotal: 1.39s\tremaining: 113ms\n",
      "925:\tlearn: 0.0797374\ttotal: 1.39s\tremaining: 111ms\n",
      "926:\tlearn: 0.0796667\ttotal: 1.39s\tremaining: 110ms\n",
      "927:\tlearn: 0.0796008\ttotal: 1.39s\tremaining: 108ms\n",
      "928:\tlearn: 0.0795273\ttotal: 1.4s\tremaining: 107ms\n",
      "929:\tlearn: 0.0794821\ttotal: 1.4s\tremaining: 105ms\n",
      "930:\tlearn: 0.0793893\ttotal: 1.4s\tremaining: 104ms\n",
      "931:\tlearn: 0.0793490\ttotal: 1.4s\tremaining: 102ms\n",
      "932:\tlearn: 0.0793071\ttotal: 1.4s\tremaining: 101ms\n",
      "933:\tlearn: 0.0792762\ttotal: 1.4s\tremaining: 99.1ms\n",
      "934:\tlearn: 0.0792457\ttotal: 1.4s\tremaining: 97.6ms\n",
      "935:\tlearn: 0.0791544\ttotal: 1.41s\tremaining: 96.1ms\n",
      "936:\tlearn: 0.0791018\ttotal: 1.41s\tremaining: 94.6ms\n",
      "937:\tlearn: 0.0790518\ttotal: 1.41s\tremaining: 93.1ms\n",
      "938:\tlearn: 0.0789765\ttotal: 1.41s\tremaining: 91.6ms\n",
      "939:\tlearn: 0.0789378\ttotal: 1.41s\tremaining: 90.1ms\n",
      "940:\tlearn: 0.0788867\ttotal: 1.41s\tremaining: 88.5ms\n",
      "941:\tlearn: 0.0788343\ttotal: 1.41s\tremaining: 87ms\n",
      "942:\tlearn: 0.0788139\ttotal: 1.42s\tremaining: 85.5ms\n",
      "943:\tlearn: 0.0787467\ttotal: 1.42s\tremaining: 84ms\n",
      "944:\tlearn: 0.0787186\ttotal: 1.42s\tremaining: 82.5ms\n",
      "945:\tlearn: 0.0786388\ttotal: 1.42s\tremaining: 81ms\n",
      "946:\tlearn: 0.0786018\ttotal: 1.42s\tremaining: 79.5ms\n",
      "947:\tlearn: 0.0784481\ttotal: 1.42s\tremaining: 78ms\n",
      "948:\tlearn: 0.0783954\ttotal: 1.42s\tremaining: 76.4ms\n",
      "949:\tlearn: 0.0783377\ttotal: 1.42s\tremaining: 74.9ms\n",
      "950:\tlearn: 0.0782358\ttotal: 1.43s\tremaining: 73.4ms\n",
      "951:\tlearn: 0.0781366\ttotal: 1.43s\tremaining: 71.9ms\n",
      "952:\tlearn: 0.0780126\ttotal: 1.43s\tremaining: 70.4ms\n",
      "953:\tlearn: 0.0779651\ttotal: 1.43s\tremaining: 68.9ms\n",
      "954:\tlearn: 0.0779185\ttotal: 1.43s\tremaining: 67.4ms\n",
      "955:\tlearn: 0.0778711\ttotal: 1.43s\tremaining: 65.9ms\n",
      "956:\tlearn: 0.0778191\ttotal: 1.43s\tremaining: 64.4ms\n",
      "957:\tlearn: 0.0777003\ttotal: 1.43s\tremaining: 62.8ms\n",
      "958:\tlearn: 0.0776063\ttotal: 1.43s\tremaining: 61.3ms\n",
      "959:\tlearn: 0.0775425\ttotal: 1.44s\tremaining: 59.8ms\n",
      "960:\tlearn: 0.0774631\ttotal: 1.44s\tremaining: 58.3ms\n",
      "961:\tlearn: 0.0774137\ttotal: 1.44s\tremaining: 56.8ms\n",
      "962:\tlearn: 0.0773373\ttotal: 1.44s\tremaining: 55.3ms\n",
      "963:\tlearn: 0.0772712\ttotal: 1.44s\tremaining: 53.8ms\n",
      "964:\tlearn: 0.0771695\ttotal: 1.44s\tremaining: 52.3ms\n",
      "965:\tlearn: 0.0771113\ttotal: 1.44s\tremaining: 50.8ms\n",
      "966:\tlearn: 0.0770626\ttotal: 1.44s\tremaining: 49.3ms\n",
      "967:\tlearn: 0.0769682\ttotal: 1.45s\tremaining: 47.8ms\n",
      "968:\tlearn: 0.0768944\ttotal: 1.45s\tremaining: 46.4ms\n",
      "969:\tlearn: 0.0768168\ttotal: 1.45s\tremaining: 44.9ms\n",
      "970:\tlearn: 0.0767420\ttotal: 1.45s\tremaining: 43.4ms\n",
      "971:\tlearn: 0.0766960\ttotal: 1.45s\tremaining: 41.9ms\n",
      "972:\tlearn: 0.0765756\ttotal: 1.45s\tremaining: 40.4ms\n",
      "973:\tlearn: 0.0765217\ttotal: 1.46s\tremaining: 38.9ms\n",
      "974:\tlearn: 0.0764856\ttotal: 1.46s\tremaining: 37.4ms\n",
      "975:\tlearn: 0.0764245\ttotal: 1.46s\tremaining: 35.9ms\n",
      "976:\tlearn: 0.0763723\ttotal: 1.46s\tremaining: 34.4ms\n",
      "977:\tlearn: 0.0762934\ttotal: 1.46s\tremaining: 32.9ms\n",
      "978:\tlearn: 0.0762145\ttotal: 1.46s\tremaining: 31.4ms\n",
      "979:\tlearn: 0.0761388\ttotal: 1.46s\tremaining: 29.9ms\n",
      "980:\tlearn: 0.0760451\ttotal: 1.47s\tremaining: 28.4ms\n",
      "981:\tlearn: 0.0759804\ttotal: 1.47s\tremaining: 26.9ms\n",
      "982:\tlearn: 0.0759432\ttotal: 1.47s\tremaining: 25.4ms\n",
      "983:\tlearn: 0.0758710\ttotal: 1.47s\tremaining: 23.9ms\n",
      "984:\tlearn: 0.0758112\ttotal: 1.47s\tremaining: 22.4ms\n",
      "985:\tlearn: 0.0757761\ttotal: 1.47s\tremaining: 20.9ms\n",
      "986:\tlearn: 0.0757517\ttotal: 1.47s\tremaining: 19.4ms\n",
      "987:\tlearn: 0.0756736\ttotal: 1.47s\tremaining: 17.9ms\n",
      "988:\tlearn: 0.0756381\ttotal: 1.48s\tremaining: 16.4ms\n",
      "989:\tlearn: 0.0755899\ttotal: 1.48s\tremaining: 14.9ms\n",
      "990:\tlearn: 0.0755550\ttotal: 1.48s\tremaining: 13.4ms\n",
      "991:\tlearn: 0.0755211\ttotal: 1.48s\tremaining: 11.9ms\n",
      "992:\tlearn: 0.0754487\ttotal: 1.48s\tremaining: 10.4ms\n",
      "993:\tlearn: 0.0753436\ttotal: 1.48s\tremaining: 8.94ms\n",
      "994:\tlearn: 0.0752260\ttotal: 1.48s\tremaining: 7.45ms\n",
      "995:\tlearn: 0.0751569\ttotal: 1.48s\tremaining: 5.96ms\n",
      "996:\tlearn: 0.0750989\ttotal: 1.49s\tremaining: 4.47ms\n",
      "997:\tlearn: 0.0750457\ttotal: 1.49s\tremaining: 2.98ms\n",
      "998:\tlearn: 0.0750109\ttotal: 1.49s\tremaining: 1.49ms\n",
      "999:\tlearn: 0.0749743\ttotal: 1.49s\tremaining: 0us\n"
     ]
    },
    {
     "data": {
      "text/plain": [
       "<catboost.core.CatBoostClassifier at 0x7fb0c3f1a220>"
      ]
     },
     "execution_count": 28,
     "metadata": {},
     "output_type": "execute_result"
    }
   ],
   "source": [
    "#model with Catboost Classifier\n",
    "model3 = CatBoostClassifier()\n",
    "\n",
    "#training \n",
    "model3.fit(X_train, y_train)"
   ]
  },
  {
   "cell_type": "code",
   "execution_count": 29,
   "metadata": {
    "id": "1qiotgMmMxlQ"
   },
   "outputs": [],
   "source": [
    "#prediction\n",
    "model3_pred =  model3.predict(X_test)"
   ]
  },
  {
   "cell_type": "markdown",
   "metadata": {
    "id": "tyILoFS_Nc0k"
   },
   "source": [
    "#### Catboost Classifier's Performance"
   ]
  },
  {
   "cell_type": "code",
   "execution_count": 30,
   "metadata": {
    "colab": {
     "base_uri": "https://localhost:8080/"
    },
    "id": "PpvRHod48Cv9",
    "outputId": "d316fe48-6897-4b04-c467-a2a73d4cfd49"
   },
   "outputs": [
    {
     "name": "stdout",
     "output_type": "stream",
     "text": [
      "CLASSIFICATION REPORT\n",
      "              precision    recall  f1-score   support\n",
      "\n",
      "           0       0.94      1.00      0.97       483\n",
      "           1       1.00      0.03      0.06        34\n",
      "\n",
      "    accuracy                           0.94       517\n",
      "   macro avg       0.97      0.51      0.51       517\n",
      "weighted avg       0.94      0.94      0.91       517\n",
      "\n",
      "ACCURACY SCORE:  0.9361702127659575\n",
      "LOG LOSS:  0.2137231365028757\n"
     ]
    }
   ],
   "source": [
    "print('CLASSIFICATION REPORT')\n",
    "print(classification_report(y_test, model3_pred))\n",
    "print('ACCURACY SCORE: ', accuracy_score(y_test, model3_pred))\n",
    "print('LOG LOSS: ', log_loss(y_test, model3.predict_proba(X_test)))"
   ]
  },
  {
   "cell_type": "code",
   "execution_count": 31,
   "metadata": {
    "colab": {
     "base_uri": "https://localhost:8080/",
     "height": 297
    },
    "id": "8SPl85yKNOYb",
    "outputId": "c559c470-7d6d-4ab2-a2a4-d3387fd1e83d"
   },
   "outputs": [
    {
     "data": {
      "text/plain": [
       "<sklearn.metrics._plot.precision_recall_curve.PrecisionRecallDisplay at 0x7fb0b25354f0>"
      ]
     },
     "execution_count": 31,
     "metadata": {},
     "output_type": "execute_result"
    },
    {
     "data": {
      "image/png": "[encoded data removed]",
      "text/plain": [
       "<Figure size 432x288 with 1 Axes>"
      ]
     },
     "metadata": {
      "needs_background": "light"
     },
     "output_type": "display_data"
    }
   ],
   "source": [
    "#precision recall curve\n",
    "plot_precision_recall_curve(estimator=model3, X=X_test, y=y_test)"
   ]
  },
  {
   "cell_type": "markdown",
   "metadata": {
    "id": "BRBHh862RzBb"
   },
   "source": [
    "This precision recall curve is quite similar to the curve obtained from Random Forest classifier but is better than that as it's having a bit higher area under the curve stating the least false positive and false negative rates."
   ]
  },
  {
   "cell_type": "code",
   "execution_count": 32,
   "metadata": {
    "colab": {
     "base_uri": "https://localhost:8080/",
     "height": 297
    },
    "id": "KRJnP_S6NrZQ",
    "outputId": "e9623e08-863a-46c6-8148-270a96eeb574",
    "scrolled": true
   },
   "outputs": [
    {
     "data": {
      "text/plain": [
       "<sklearn.metrics._plot.confusion_matrix.ConfusionMatrixDisplay at 0x7fb0b32d2d60>"
      ]
     },
     "execution_count": 32,
     "metadata": {},
     "output_type": "execute_result"
    },
    {
     "data": {
      "image/png": "[encoded data removed]",
      "text/plain": [
       "<Figure size 432x288 with 2 Axes>"
      ]
     },
     "metadata": {
      "needs_background": "light"
     },
     "output_type": "display_data"
    }
   ],
   "source": [
    "#confusion matrix\n",
    "plot_confusion_matrix(estimator=model3, X=X_test, y_true=y_test, cmap='Blues_r')"
   ]
  },
  {
   "cell_type": "markdown",
   "metadata": {
    "id": "V2zULKcSN7CC"
   },
   "source": [
    "\n",
    "\n",
    "The confusion matrix of this classifier is showing very less false predicted values among all models used here.\n"
   ]
  },
  {
   "cell_type": "markdown",
   "metadata": {
    "id": "oOal-ZzASqsW"
   },
   "source": [
    "### At last, it can be concluded:\n",
    "Out of three models used for this classification of hazardous and No-hazardous state, Catboost classifier algorithms and its model has been proven to be the best fitted model for this dataset. It attained 94% accuracy along with 0.21 log_loss which is better among all. Similar results are shown by Random Forest classifier also but its log-loss is comparatively higher among all. Therefore, Catboost Classifier is best for this seismic bumps dataset. The precision recall curve of catboost classifier is having highest area with least false positive and false negative rates, and the confusion matrix is also having better results with only 34 wrongly classified outputs."
   ]
  }
 ],
 "metadata": {
  "colab": {
   "collapsed_sections": [],
   "name": "Assignment",
   "provenance": []
  },
  "kernelspec": {
   "display_name": "Python 3",
   "language": "python",
   "name": "python3"
  },
  "language_info": {
   "codemirror_mode": {
    "name": "ipython",
    "version": 3
   },
   "file_extension": ".py",
   "mimetype": "text/x-python",
   "name": "python",
   "nbconvert_exporter": "python",
   "pygments_lexer": "ipython3",
   "version": "3.8.8"
  }
 },
 "nbformat": 4,
 "nbformat_minor": 1
}
